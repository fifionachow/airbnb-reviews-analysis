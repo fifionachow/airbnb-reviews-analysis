{
 "cells": [
  {
   "cell_type": "code",
   "execution_count": 1,
   "metadata": {
    "colab": {
     "base_uri": "https://localhost:8080/",
     "height": 54
    },
    "colab_type": "code",
    "executionInfo": {
     "elapsed": 334,
     "status": "ok",
     "timestamp": 1560926700027,
     "user": {
      "displayName": "Fiona Chow",
      "photoUrl": "",
      "userId": "14880095889299408483"
     },
     "user_tz": -60
    },
    "id": "NSW4i427mq91",
    "outputId": "a65fc1d3-3e99-4b9a-9a7d-7b2e3d0a73c1"
   },
   "outputs": [
    {
     "name": "stdout",
     "output_type": "stream",
     "text": [
      "Drive already mounted at /content/drive; to attempt to forcibly remount, call drive.mount(\"/content/drive\", force_remount=True).\n"
     ]
    }
   ],
   "source": [
    "import os\n",
    "\n",
    "# Load the Drive helper and mount\n",
    "from google.colab import drive\n",
    "\n",
    "# This will prompt for authorization.\n",
    "drive.mount('/content/drive')"
   ]
  },
  {
   "cell_type": "markdown",
   "metadata": {},
   "source": [
    "# Setup fastText on Colab\n",
    "I needed a pretrained language identification model that was fast and accurate. \n",
    "That's where I came across [fastText](https://fasttext.cc/blog/2017/10/02/blog-post.html) by Faceboook team. The model achieved over 98% accuracy in EuroGov dataset which consist of many different European languages. We can expect alot of different European languages being used in the Amsterdam Airbnb Reviews."
   ]
  },
  {
   "cell_type": "code",
   "execution_count": 0,
   "metadata": {
    "colab": {},
    "colab_type": "code",
    "id": "8kNwQxT6nt7J"
   },
   "outputs": [],
   "source": [
    "os.chdir(\"./drive/My Drive/Colab Notebooks/fastText\")"
   ]
  },
  {
   "cell_type": "code",
   "execution_count": 3,
   "metadata": {
    "colab": {
     "base_uri": "https://localhost:8080/",
     "height": 339
    },
    "colab_type": "code",
    "collapsed": true,
    "executionInfo": {
     "elapsed": 42020,
     "status": "ok",
     "timestamp": 1560926755917,
     "user": {
      "displayName": "Fiona Chow",
      "photoUrl": "",
      "userId": "14880095889299408483"
     },
     "user_tz": -60
    },
    "id": "5J3IerpihBC1",
    "outputId": "9c758140-614b-4dc4-dfc3-6f4027cd2cb0"
   },
   "outputs": [
    {
     "name": "stdout",
     "output_type": "stream",
     "text": [
      "Cloning into 'fastText'...\n",
      "remote: Enumerating objects: 3197, done.\u001b[K\n",
      "remote: Total 3197 (delta 0), reused 0 (delta 0), pack-reused 3197\u001b[K\n",
      "Receiving objects: 100% (3197/3197), 7.84 MiB | 12.97 MiB/s, done.\n",
      "Resolving deltas: 100% (2007/2007), done.\n",
      "Checking out files: 100% (508/508), done.\n",
      "/content/drive/My Drive/Colab Notebooks/fastText/fastText\n",
      "Processing /content/drive/My Drive/Colab Notebooks/fastText/fastText\n",
      "Requirement already satisfied: pybind11>=2.2 in /usr/local/lib/python3.6/dist-packages (from fasttext==0.8.22) (2.3.0)\n",
      "Requirement already satisfied: setuptools>=0.7.0 in /usr/local/lib/python3.6/dist-packages (from fasttext==0.8.22) (41.0.1)\n",
      "Requirement already satisfied: numpy in /usr/local/lib/python3.6/dist-packages (from fasttext==0.8.22) (1.16.4)\n",
      "Building wheels for collected packages: fasttext\n",
      "  Building wheel for fasttext (setup.py) ... \u001b[?25l\u001b[?25hdone\n",
      "  Stored in directory: /tmp/pip-ephem-wheel-cache-vbfnnmly/wheels/f0/a7/f3/1c2fcbb3da6c4774b66c0d66b59bf4650f0433d55d8d03a1ef\n",
      "Successfully built fasttext\n",
      "Installing collected packages: fasttext\n",
      "Successfully installed fasttext-0.8.22\n",
      "/content/drive/My Drive/Colab Notebooks/fastText/fastText\n"
     ]
    }
   ],
   "source": [
    "! git clone https://github.com/facebookresearch/fastText.git\n",
    "% cd fastText\n",
    "! pip install .\n",
    "! cd ../\n",
    "! pwd"
   ]
  },
  {
   "cell_type": "code",
   "execution_count": 0,
   "metadata": {
    "ExecuteTime": {
     "end_time": "2019-06-18T21:32:48.658746Z",
     "start_time": "2019-06-18T21:32:48.482229Z"
    },
    "colab": {},
    "colab_type": "code",
    "id": "DfUKzBK2g9hb"
   },
   "outputs": [],
   "source": [
    "from fastText import load_model\n",
    "\n",
    "%load_ext autoreload\n",
    "%autoreload 2"
   ]
  },
  {
   "cell_type": "markdown",
   "metadata": {},
   "source": [
    "## Download fastText pretrained model"
   ]
  },
  {
   "cell_type": "code",
   "execution_count": null,
   "metadata": {},
   "outputs": [],
   "source": [
    "! wget https://dl.fbaipublicfiles.com/fasttext/supervised-models/lid.176.ftz"
   ]
  },
  {
   "cell_type": "code",
   "execution_count": 6,
   "metadata": {
    "colab": {
     "base_uri": "https://localhost:8080/",
     "height": 34
    },
    "colab_type": "code",
    "executionInfo": {
     "elapsed": 423,
     "status": "ok",
     "timestamp": 1560926778790,
     "user": {
      "displayName": "Fiona Chow",
      "photoUrl": "",
      "userId": "14880095889299408483"
     },
     "user_tz": -60
    },
    "id": "Md18ZjHRomZC",
    "outputId": "468810f1-9b4b-4610-bcfc-60e84f8944ec"
   },
   "outputs": [
    {
     "data": {
      "text/plain": [
       "True"
      ]
     },
     "execution_count": 6,
     "metadata": {
      "tags": []
     },
     "output_type": "execute_result"
    }
   ],
   "source": [
    "# check that the pretrained model path is correct.\n",
    "# https://fasttext.cc/docs/en/language-identification.html\n",
    "model_path = '../lid.176.ftz'\n",
    "os.path.exists(model_path)"
   ]
  },
  {
   "cell_type": "markdown",
   "metadata": {
    "colab": {},
    "colab_type": "code",
    "id": "YMLbfoD-hywz"
   },
   "source": [
    "## Load and test model "
   ]
  },
  {
   "cell_type": "code",
   "execution_count": 10,
   "metadata": {
    "colab": {
     "base_uri": "https://localhost:8080/",
     "height": 34
    },
    "colab_type": "code",
    "executionInfo": {
     "elapsed": 347,
     "status": "ok",
     "timestamp": 1560926817954,
     "user": {
      "displayName": "Fiona Chow",
      "photoUrl": "",
      "userId": "14880095889299408483"
     },
     "user_tz": -60
    },
    "id": "nQo_wvytiXCW",
    "outputId": "32b59e8c-ed57-4e47-91f3-7a9063801e7e",
    "scrolled": true
   },
   "outputs": [
    {
     "data": {
      "text/plain": [
       "(('__label__it',), array([0.55371433]))"
      ]
     },
     "execution_count": 10,
     "metadata": {
      "tags": []
     },
     "output_type": "execute_result"
    }
   ],
   "source": [
    "loaded_model = load_model(model_path)\n",
    "loaded_model.predict('Tutto perfetto...')"
   ]
  },
  {
   "cell_type": "code",
   "execution_count": 0,
   "metadata": {
    "colab": {},
    "colab_type": "code",
    "id": "a2Q2DSxpqorZ"
   },
   "outputs": [],
   "source": [
    "# model outputs the predicted language in iso code.\n",
    "# created a dictionary for converting the iso codes.\n",
    "iso_code = {\"gv\": \"Manx\", \"gu\": \"Gujarati\", \"gd\": \"Scottish Gaelic\", \"ga\": \"Irish\", \"gn\": \"Guaran\\\\u00ed\", \"gl\": \"Galician\", \"lg\": \"Luganda\", \"lb\": \"Luxembourgish\", \"la\": \"Latin\", \"ln\": \"Lingala\", \"lo\": \"Lao\", \"tt\": \"Tatar\", \"tr\": \"Turkish\", \"ts\": \"Tsonga\", \"li\": \"Limburgish\", \"lv\": \"Latvian\", \"to\": \"Tonga\", \"lt\": \"Lithuanian\", \"lu\": \"Luba-Katanga\", \"tk\": \"Turkmen\", \"th\": \"Thai\", \"ti\": \"Tigrinya\", \"tg\": \"Tajik\", \"te\": \"Telugu\", \"ta\": \"Tamil\", \"yi\": \"Yiddish\", \"yo\": \"Yoruba\", \"de\": \"German\", \"da\": \"Danish\", \"dz\": \"Dzongkha\", \"st\": \"Southern Sotho\", \"dv\": \"Divehi; Maldivian;\", \"qu\": \"Quechua\", \"el\": \"Greek, Modern\", \"eo\": \"Esperanto\", \"en\": \"English\", \"zh\": \"Chinese\", \"ee\": \"Ewe\", \"za\": \"Zhuang, Chuang\", \"mh\": \"Marshallese\", \"uk\": \"Ukrainian\", \"eu\": \"Basque\", \"et\": \"Estonian\", \"es\": \"Spanish; Castilian\", \"ru\": \"Russian\", \"rw\": \"Kinyarwanda\", \"rm\": \"Romansh\", \"rn\": \"Kirundi\", \"ro\": \"Romanian, Moldavan\", \"bn\": \"Bengali\", \"be\": \"Belarusian\", \"bg\": \"Bulgarian\", \"ba\": \"Bashkir\", \"wa\": \"Walloon\", \"wo\": \"Wolof\", \"bm\": \"Bambara\", \"jv\": \"Javanese\", \"bo\": \"Tibetan\", \"bh\": \"Bihari\", \"bi\": \"Bislama\", \"br\": \"Breton\", \"bs\": \"Bosnian\", \"ja\": \"Japanese\", \"om\": \"Oromo\", \"oj\": \"Ojibwe, Ojibwa\", \"ty\": \"Tahitian\", \"oc\": \"Occitan\", \"tw\": \"Twi\", \"os\": \"Ossetian, Ossetic\", \"or\": \"Oriya\", \"xh\": \"Xhosa\", \"ch\": \"Chamorro\", \"co\": \"Corsican\", \"ca\": \"Catalan; Valencian\", \"ce\": \"Chechen\", \"cy\": \"Welsh\", \"cs\": \"Czech\", \"cr\": \"Cree\", \"cv\": \"Chuvash\", \"cu\": \"Old Church Slavonic\", \"ve\": \"Venda\", \"ps\": \"Pashto, Pushto\", \"pt\": \"Portuguese\", \"tl\": \"Tagalog\", \"pa\": \"Panjabi, Punjabi\", \"vi\": \"Vietnamese\", \"pi\": \"P\\\\u0101li\", \"is\": \"Icelandic\", \"pl\": \"Polish\", \"hz\": \"Herero\", \"hy\": \"Armenian\", \"hr\": \"Croatian\", \"iu\": \"Inuktitut\", \"ht\": \"Haitian\", \"hu\": \"Hungarian\", \"hi\": \"Hindi\", \"ho\": \"Hiri Motu\", \"ha\": \"Hausa\", \"he\": \"Hebrew (modern)\", \"mg\": \"Malagasy\", \"uz\": \"Uzbek\", \"ml\": \"Malayalam\", \"mn\": \"Mongolian\", \"mi\": \"M\\\\u0101ori\", \"ik\": \"Inupiaq\", \"mk\": \"Macedonian\", \"ur\": \"Urdu\", \"mt\": \"Maltese\", \"ms\": \"Malay\", \"mr\": \"Marathi (Mar\\\\u0101\\\\u1e6dh\\\\u012b)\", \"ug\": \"Uighur, Uyghur\", \"my\": \"Burmese\", \"ki\": \"Kikuyu, Gikuyu\", \"aa\": \"Afar\", \"ab\": \"Abkhaz\", \"ae\": \"Avestan\", \"ss\": \"Swati\", \"af\": \"Afrikaans\", \"tn\": \"Tswana\", \"sw\": \"Swahili\", \"ak\": \"Akan\", \"am\": \"Amharic\", \"it\": \"Italian\", \"an\": \"Aragonese\", \"ii\": \"Nuosu\", \"ia\": \"Interlingua\", \"as\": \"Assamese\", \"ar\": \"Arabic\", \"su\": \"Sundanese\", \"io\": \"Ido\", \"av\": \"Avaric\", \"ay\": \"Aymara\", \"az\": \"Azerbaijani\", \"ie\": \"Interlingue\", \"id\": \"Indonesian\", \"ig\": \"Igbo\", \"sk\": \"Slovak\", \"sr\": \"Serbian\", \"nl\": \"Dutch\", \"nn\": \"Norwegian Nynorsk\", \"no\": \"Norwegian\", \"na\": \"Nauru\", \"nb\": \"Norwegian Bokm\\\\u00e5l\", \"nd\": \"North Ndebele\", \"ne\": \"Nepali\", \"ng\": \"Ndonga\", \"ny\": \"Chichewa; Chewa; Nyanja\", \"vo\": \"Volap\\\\u00fck\", \"zu\": \"Zulu\", \"so\": \"Somali\", \"nr\": \"South Ndebele\", \"nv\": \"Navajo, Navaho\", \"sn\": \"Shona\", \"fr\": \"French\", \"sm\": \"Samoan\", \"fy\": \"Western Frisian\", \"sv\": \"Swedish\", \"fa\": \"Persian\", \"ff\": \"Fula\", \"fi\": \"Finnish\", \"fj\": \"Fijian\", \"sa\": \"Sanskrit (Sa\\\\u1e41sk\\\\u1e5bta)\", \"fo\": \"Faroese\", \"ka\": \"Georgian\", \"kg\": \"Kongo\", \"kk\": \"Kazakh\", \"kj\": \"Kwanyama, Kuanyama\", \"sq\": \"Albanian\", \"ko\": \"Korean\", \"kn\": \"Kannada\", \"km\": \"Khmer\", \"kl\": \"Kalaallisut\", \"ks\": \"Kashmiri\", \"kr\": \"Kanuri\", \"si\": \"Sinhala, Sinhalese\", \"kw\": \"Cornish\", \"kv\": \"Komi\", \"ku\": \"Kurdish\", \"sl\": \"Slovene\", \"sc\": \"Sardinian\", \"ky\": \"Kirghiz, Kyrgyz\", \"sg\": \"Sango\", \"se\": \"Northern Sami\", \"sd\": \"Sindhi\"}"
   ]
  },
  {
   "cell_type": "code",
   "execution_count": 36,
   "metadata": {
    "colab": {
     "base_uri": "https://localhost:8080/",
     "height": 34
    },
    "colab_type": "code",
    "executionInfo": {
     "elapsed": 675,
     "status": "ok",
     "timestamp": 1560897046793,
     "user": {
      "displayName": "Fiona Chow",
      "photoUrl": "",
      "userId": "14880095889299408483"
     },
     "user_tz": -60
    },
    "id": "FAn1QBCjtHpc",
    "outputId": "0803c245-fe5f-4db7-940d-99cd8408bd78"
   },
   "outputs": [
    {
     "data": {
      "text/plain": [
       "'Greek, Modern'"
      ]
     },
     "execution_count": 36,
     "metadata": {
      "tags": []
     },
     "output_type": "execute_result"
    }
   ],
   "source": [
    "iso_code['__label__el'.split(\"__label__\")[-1]]"
   ]
  },
  {
   "cell_type": "code",
   "execution_count": null,
   "metadata": {},
   "outputs": [],
   "source": []
  },
  {
   "cell_type": "code",
   "execution_count": 33,
   "metadata": {
    "ExecuteTime": {
     "end_time": "2019-06-18T21:32:50.125993Z",
     "start_time": "2019-06-18T21:32:49.871187Z"
    },
    "colab": {
     "base_uri": "https://localhost:8080/",
     "height": 195
    },
    "colab_type": "code",
    "executionInfo": {
     "elapsed": 1140,
     "status": "ok",
     "timestamp": 1560927547209,
     "user": {
      "displayName": "Fiona Chow",
      "photoUrl": "",
      "userId": "14880095889299408483"
     },
     "user_tz": -60
    },
    "id": "h08mxaVKg9hf",
    "outputId": "0e7497e0-381b-4159-a88a-729f1f21fb3a"
   },
   "outputs": [
    {
     "data": {
      "text/html": [
       "<div>\n",
       "<style scoped>\n",
       "    .dataframe tbody tr th:only-of-type {\n",
       "        vertical-align: middle;\n",
       "    }\n",
       "\n",
       "    .dataframe tbody tr th {\n",
       "        vertical-align: top;\n",
       "    }\n",
       "\n",
       "    .dataframe thead th {\n",
       "        text-align: right;\n",
       "    }\n",
       "</style>\n",
       "<table border=\"1\" class=\"dataframe\">\n",
       "  <thead>\n",
       "    <tr style=\"text-align: right;\">\n",
       "      <th></th>\n",
       "      <th>comments</th>\n",
       "    </tr>\n",
       "  </thead>\n",
       "  <tbody>\n",
       "    <tr>\n",
       "      <th>0</th>\n",
       "      <td>Daniel is really cool. The place was nice and ...</td>\n",
       "    </tr>\n",
       "    <tr>\n",
       "      <th>1</th>\n",
       "      <td>Daniel is the most amazing host! His place is ...</td>\n",
       "    </tr>\n",
       "    <tr>\n",
       "      <th>2</th>\n",
       "      <td>We had such a great time in Amsterdam. Daniel ...</td>\n",
       "    </tr>\n",
       "    <tr>\n",
       "      <th>3</th>\n",
       "      <td>Very professional operation. Room is very clea...</td>\n",
       "    </tr>\n",
       "    <tr>\n",
       "      <th>4</th>\n",
       "      <td>Daniel is highly recommended.  He provided all...</td>\n",
       "    </tr>\n",
       "  </tbody>\n",
       "</table>\n",
       "</div>"
      ],
      "text/plain": [
       "                                            comments\n",
       "0  Daniel is really cool. The place was nice and ...\n",
       "1  Daniel is the most amazing host! His place is ...\n",
       "2  We had such a great time in Amsterdam. Daniel ...\n",
       "3  Very professional operation. Room is very clea...\n",
       "4  Daniel is highly recommended.  He provided all..."
      ]
     },
     "execution_count": 33,
     "metadata": {
      "tags": []
     },
     "output_type": "execute_result"
    }
   ],
   "source": [
    "import pandas as pd\n",
    "df = pd.read_csv(\"../lang_detection_use.csv\", names=['comments'], index_col=0)\n",
    "df.head()"
   ]
  },
  {
   "cell_type": "code",
   "execution_count": 0,
   "metadata": {
    "colab": {},
    "colab_type": "code",
    "id": "5HoF4VE2s86v"
   },
   "outputs": [],
   "source": [
    "def get_language(ind_num, x, model):\n",
    "    langs = model.predict(x)\n",
    "    lang = langs[0][0].split(\"__label__\")[-1]\n",
    "    prob = langs[1][0]\n",
    "    return {\"language\": lang, \"probability\": prob, \"index\": ind_num}"
   ]
  },
  {
   "cell_type": "code",
   "execution_count": 44,
   "metadata": {
    "colab": {
     "base_uri": "https://localhost:8080/",
     "height": 34
    },
    "colab_type": "code",
    "executionInfo": {
     "elapsed": 328,
     "status": "ok",
     "timestamp": 1560927660698,
     "user": {
      "displayName": "Fiona Chow",
      "photoUrl": "",
      "userId": "14880095889299408483"
     },
     "user_tz": -60
    },
    "id": "xbx1OQ-Ufdm3",
    "outputId": "4a6c4670-f8a3-4f2b-f159-d2db4d0eb35a"
   },
   "outputs": [
    {
     "data": {
      "text/plain": [
       "{'index': 1, 'language': 'it', 'probability': 0.991814136505127}"
      ]
     },
     "execution_count": 44,
     "metadata": {
      "tags": []
     },
     "output_type": "execute_result"
    }
   ],
   "source": [
    "get_language(1, 'OTTIMO LOFT IN POSIZIONE MOLTO STRATEGICA ERAV'.lower(), loaded_model)"
   ]
  },
  {
   "cell_type": "code",
   "execution_count": 0,
   "metadata": {
    "colab": {},
    "colab_type": "code",
    "id": "rVp0kqb3ugF9"
   },
   "outputs": [],
   "source": [
    "df['comments'] = df['comments'].apply(lambda x: x.replace(\"\\n\", ' ').lower())"
   ]
  },
  {
   "cell_type": "code",
   "execution_count": 0,
   "metadata": {
    "colab": {},
    "colab_type": "code",
    "id": "5bcfba-7f6m_"
   },
   "outputs": [],
   "source": [
    "comments_dict = df['comments'].reset_index().to_dict(orient='records')\n",
    "lang_dict = [get_language(comment['index'], comment['comments'], loaded_model) for comment in comments_dict]"
   ]
  },
  {
   "cell_type": "code",
   "execution_count": 47,
   "metadata": {
    "colab": {
     "base_uri": "https://localhost:8080/",
     "height": 195
    },
    "colab_type": "code",
    "executionInfo": {
     "elapsed": 12145,
     "status": "ok",
     "timestamp": 1560927716074,
     "user": {
      "displayName": "Fiona Chow",
      "photoUrl": "",
      "userId": "14880095889299408483"
     },
     "user_tz": -60
    },
    "id": "mDcTXXwLgd67",
    "outputId": "a3a0bc8b-0ec7-4dc1-9ae2-1715ba93eae2"
   },
   "outputs": [
    {
     "data": {
      "text/html": [
       "<div>\n",
       "<style scoped>\n",
       "    .dataframe tbody tr th:only-of-type {\n",
       "        vertical-align: middle;\n",
       "    }\n",
       "\n",
       "    .dataframe tbody tr th {\n",
       "        vertical-align: top;\n",
       "    }\n",
       "\n",
       "    .dataframe thead th {\n",
       "        text-align: right;\n",
       "    }\n",
       "</style>\n",
       "<table border=\"1\" class=\"dataframe\">\n",
       "  <thead>\n",
       "    <tr style=\"text-align: right;\">\n",
       "      <th></th>\n",
       "      <th>index</th>\n",
       "      <th>language</th>\n",
       "      <th>probability</th>\n",
       "    </tr>\n",
       "  </thead>\n",
       "  <tbody>\n",
       "    <tr>\n",
       "      <th>0</th>\n",
       "      <td>0</td>\n",
       "      <td>en</td>\n",
       "      <td>0.992321</td>\n",
       "    </tr>\n",
       "    <tr>\n",
       "      <th>1</th>\n",
       "      <td>1</td>\n",
       "      <td>en</td>\n",
       "      <td>0.991255</td>\n",
       "    </tr>\n",
       "    <tr>\n",
       "      <th>2</th>\n",
       "      <td>2</td>\n",
       "      <td>en</td>\n",
       "      <td>0.995635</td>\n",
       "    </tr>\n",
       "    <tr>\n",
       "      <th>3</th>\n",
       "      <td>3</td>\n",
       "      <td>en</td>\n",
       "      <td>0.990710</td>\n",
       "    </tr>\n",
       "    <tr>\n",
       "      <th>4</th>\n",
       "      <td>4</td>\n",
       "      <td>en</td>\n",
       "      <td>0.967161</td>\n",
       "    </tr>\n",
       "  </tbody>\n",
       "</table>\n",
       "</div>"
      ],
      "text/plain": [
       "   index language  probability\n",
       "0      0       en     0.992321\n",
       "1      1       en     0.991255\n",
       "2      2       en     0.995635\n",
       "3      3       en     0.990710\n",
       "4      4       en     0.967161"
      ]
     },
     "execution_count": 47,
     "metadata": {
      "tags": []
     },
     "output_type": "execute_result"
    }
   ],
   "source": [
    "lang_df = pd.DataFrame(lang_dict)\n",
    "lang_df.head()"
   ]
  },
  {
   "cell_type": "code",
   "execution_count": 48,
   "metadata": {
    "colab": {
     "base_uri": "https://localhost:8080/",
     "height": 47
    },
    "colab_type": "code",
    "executionInfo": {
     "elapsed": 334,
     "status": "ok",
     "timestamp": 1560927719549,
     "user": {
      "displayName": "Fiona Chow",
      "photoUrl": "",
      "userId": "14880095889299408483"
     },
     "user_tz": -60
    },
    "id": "V82vdXw3gpeT",
    "outputId": "af2ba822-6132-4982-8001-ecf2ad1df78f"
   },
   "outputs": [
    {
     "data": {
      "text/html": [
       "<div>\n",
       "<style scoped>\n",
       "    .dataframe tbody tr th:only-of-type {\n",
       "        vertical-align: middle;\n",
       "    }\n",
       "\n",
       "    .dataframe tbody tr th {\n",
       "        vertical-align: top;\n",
       "    }\n",
       "\n",
       "    .dataframe thead th {\n",
       "        text-align: right;\n",
       "    }\n",
       "</style>\n",
       "<table border=\"1\" class=\"dataframe\">\n",
       "  <thead>\n",
       "    <tr style=\"text-align: right;\">\n",
       "      <th></th>\n",
       "      <th>index</th>\n",
       "      <th>language</th>\n",
       "      <th>probability</th>\n",
       "    </tr>\n",
       "  </thead>\n",
       "  <tbody>\n",
       "  </tbody>\n",
       "</table>\n",
       "</div>"
      ],
      "text/plain": [
       "Empty DataFrame\n",
       "Columns: [index, language, probability]\n",
       "Index: []"
      ]
     },
     "execution_count": 48,
     "metadata": {
      "tags": []
     },
     "output_type": "execute_result"
    }
   ],
   "source": [
    "lang_df[lang_df.language.isna()]"
   ]
  },
  {
   "cell_type": "code",
   "execution_count": 49,
   "metadata": {
    "colab": {
     "base_uri": "https://localhost:8080/",
     "height": 134
    },
    "colab_type": "code",
    "executionInfo": {
     "elapsed": 322,
     "status": "ok",
     "timestamp": 1560927721016,
     "user": {
      "displayName": "Fiona Chow",
      "photoUrl": "",
      "userId": "14880095889299408483"
     },
     "user_tz": -60
    },
    "id": "ZD5Bnh4vguxw",
    "outputId": "15d0da55-1a47-4d3c-cfe5-4a67ce615cfd"
   },
   "outputs": [
    {
     "data": {
      "text/plain": [
       "array(['en', 'fr', 'de', 'it', 'es', 'zh', 'da', 'pt', 'el', 'nl', 'ru',\n",
       "       'hu', 'ko', 'tr', 'pl', 'cs', 'ja', 'fi', 'eo', 'sv', 'no', 'af',\n",
       "       'ml', 'ro', 'la', 'et', 'is', 'ca', 'he', 'gl', 'id', 'ceb', 'hr',\n",
       "       'bs', 'sk', 'th', 'ar', 'sr', 'sh', 'war', 'hi', 'bg', 'jbo', 'eu',\n",
       "       'uk', 'sl', 'nn', 'bar', 'vi', 'lt', 'fa', 'ast', 'ka', 'ms', 'tt',\n",
       "       'yue', 'br', 'tl', 'ilo', 'ur', 'cy', 'wuu', 'vls', 'dv', 'als',\n",
       "       'nds', 'lv'], dtype=object)"
      ]
     },
     "execution_count": 49,
     "metadata": {
      "tags": []
     },
     "output_type": "execute_result"
    }
   ],
   "source": [
    "lang_df.language.unique()"
   ]
  },
  {
   "cell_type": "code",
   "execution_count": 50,
   "metadata": {
    "colab": {
     "base_uri": "https://localhost:8080/",
     "height": 195
    },
    "colab_type": "code",
    "executionInfo": {
     "elapsed": 326,
     "status": "ok",
     "timestamp": 1560927723403,
     "user": {
      "displayName": "Fiona Chow",
      "photoUrl": "",
      "userId": "14880095889299408483"
     },
     "user_tz": -60
    },
    "id": "Dmyj_HCOg59t",
    "outputId": "725a54f2-b338-4974-e192-8a180cd13fb8"
   },
   "outputs": [
    {
     "data": {
      "text/html": [
       "<div>\n",
       "<style scoped>\n",
       "    .dataframe tbody tr th:only-of-type {\n",
       "        vertical-align: middle;\n",
       "    }\n",
       "\n",
       "    .dataframe tbody tr th {\n",
       "        vertical-align: top;\n",
       "    }\n",
       "\n",
       "    .dataframe thead th {\n",
       "        text-align: right;\n",
       "    }\n",
       "</style>\n",
       "<table border=\"1\" class=\"dataframe\">\n",
       "  <thead>\n",
       "    <tr style=\"text-align: right;\">\n",
       "      <th></th>\n",
       "      <th>comments</th>\n",
       "      <th>language</th>\n",
       "      <th>probability</th>\n",
       "    </tr>\n",
       "  </thead>\n",
       "  <tbody>\n",
       "    <tr>\n",
       "      <th>0</th>\n",
       "      <td>daniel is really cool. the place was nice and ...</td>\n",
       "      <td>en</td>\n",
       "      <td>0.992321</td>\n",
       "    </tr>\n",
       "    <tr>\n",
       "      <th>1</th>\n",
       "      <td>daniel is the most amazing host! his place is ...</td>\n",
       "      <td>en</td>\n",
       "      <td>0.991255</td>\n",
       "    </tr>\n",
       "    <tr>\n",
       "      <th>2</th>\n",
       "      <td>we had such a great time in amsterdam. daniel ...</td>\n",
       "      <td>en</td>\n",
       "      <td>0.995635</td>\n",
       "    </tr>\n",
       "    <tr>\n",
       "      <th>3</th>\n",
       "      <td>very professional operation. room is very clea...</td>\n",
       "      <td>en</td>\n",
       "      <td>0.990710</td>\n",
       "    </tr>\n",
       "    <tr>\n",
       "      <th>4</th>\n",
       "      <td>daniel is highly recommended.  he provided all...</td>\n",
       "      <td>en</td>\n",
       "      <td>0.967161</td>\n",
       "    </tr>\n",
       "  </tbody>\n",
       "</table>\n",
       "</div>"
      ],
      "text/plain": [
       "                                            comments language  probability\n",
       "0  daniel is really cool. the place was nice and ...       en     0.992321\n",
       "1  daniel is the most amazing host! his place is ...       en     0.991255\n",
       "2  we had such a great time in amsterdam. daniel ...       en     0.995635\n",
       "3  very professional operation. room is very clea...       en     0.990710\n",
       "4  daniel is highly recommended.  he provided all...       en     0.967161"
      ]
     },
     "execution_count": 50,
     "metadata": {
      "tags": []
     },
     "output_type": "execute_result"
    }
   ],
   "source": [
    "lang_df.set_index(\"index\", inplace=True)\n",
    "joined_df = df.join(lang_df, on=None, how='left', lsuffix='', rsuffix='', sort=False)\n",
    "joined_df.head()"
   ]
  },
  {
   "cell_type": "code",
   "execution_count": 0,
   "metadata": {
    "colab": {},
    "colab_type": "code",
    "id": "95NITBGUg9hj"
   },
   "outputs": [],
   "source": []
  },
  {
   "cell_type": "code",
   "execution_count": 54,
   "metadata": {
    "colab": {
     "base_uri": "https://localhost:8080/",
     "height": 297
    },
    "colab_type": "code",
    "executionInfo": {
     "elapsed": 1120,
     "status": "ok",
     "timestamp": 1560927854797,
     "user": {
      "displayName": "Fiona Chow",
      "photoUrl": "",
      "userId": "14880095889299408483"
     },
     "user_tz": -60
    },
    "id": "unf5REc_hY9z",
    "outputId": "18f68264-5f3d-4542-e2fd-79e4eb9196f6"
   },
   "outputs": [
    {
     "data": {
      "text/plain": [
       "<matplotlib.axes._subplots.AxesSubplot at 0x7fcda64de6a0>"
      ]
     },
     "execution_count": 54,
     "metadata": {
      "tags": []
     },
     "output_type": "execute_result"
    },
    {
     "data": {
      "image/png": "[encoded data removed]",
      "text/plain": [
       "<Figure size 432x288 with 1 Axes>"
      ]
     },
     "metadata": {
      "tags": []
     },
     "output_type": "display_data"
    }
   ],
   "source": [
    "lang_freq = joined_df.language.value_counts()\n",
    "lang_freq.plot(kind='bar')"
   ]
  },
  {
   "cell_type": "code",
   "execution_count": 0,
   "metadata": {
    "colab": {},
    "colab_type": "code",
    "id": "fCVgBwieubuX"
   },
   "outputs": [],
   "source": [
    "joined_df.to_csv(\"../with_language_identified.csv\", index=False)"
   ]
  }
 ],
 "metadata": {
  "accelerator": "GPU",
  "colab": {
   "collapsed_sections": [],
   "name": "Test - FastText Language Identification.ipynb",
   "provenance": [],
   "version": "0.3.2"
  },
  "kernelspec": {
   "display_name": "Python 3",
   "language": "python",
   "name": "python3"
  },
  "language_info": {
   "codemirror_mode": {
    "name": "ipython",
    "version": 3
   },
   "file_extension": ".py",
   "mimetype": "text/x-python",
   "name": "python",
   "nbconvert_exporter": "python",
   "pygments_lexer": "ipython3",
   "version": "3.6.6"
  },
  "toc": {
   "base_numbering": 1,
   "nav_menu": {},
   "number_sections": true,
   "sideBar": true,
   "skip_h1_title": false,
   "title_cell": "Table of Contents",
   "title_sidebar": "Contents",
   "toc_cell": false,
   "toc_position": {},
   "toc_section_display": true,
   "toc_window_display": true
  }
 },
 "nbformat": 4,
 "nbformat_minor": 1
}
