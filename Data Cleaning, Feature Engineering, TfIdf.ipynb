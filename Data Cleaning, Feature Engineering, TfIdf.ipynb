{
 "cells": [
  {
   "cell_type": "code",
   "execution_count": null,
   "metadata": {
    "ExecuteTime": {
     "end_time": "2019-06-22T10:58:51.325692Z",
     "start_time": "2019-06-22T10:58:49.720127Z"
    }
   },
   "outputs": [],
   "source": [
    "import pandas as pd\n",
    "import numpy as np\n",
    "import os\n",
    "import seaborn as sns\n",
    "import matplotlib\n",
    "import matplotlib.pyplot as plt\n",
    "%matplotlib inline\n",
    "\n",
    "from sklearn.feature_extraction.text import TfidfVectorizer"
   ]
  },
  {
   "cell_type": "code",
   "execution_count": 67,
   "metadata": {
    "ExecuteTime": {
     "end_time": "2019-06-23T10:44:49.700148Z",
     "start_time": "2019-06-23T10:44:49.692535Z"
    }
   },
   "outputs": [],
   "source": [
    "from datajanitor.text import create_ngram, remove_stopword, symbols_replaced, decontracted, remove_html_tags, split_words_and_punctuation, apply_text_normalisation\n",
    "from utils import keep_token_pattern, chain"
   ]
  },
  {
   "cell_type": "code",
   "execution_count": 3,
   "metadata": {
    "ExecuteTime": {
     "end_time": "2019-06-22T10:58:52.260288Z",
     "start_time": "2019-06-22T10:58:52.252305Z"
    }
   },
   "outputs": [],
   "source": [
    "from nltk.corpus import stopwords\n",
    "english_stop_words = stopwords.words('english')"
   ]
  },
  {
   "cell_type": "markdown",
   "metadata": {},
   "source": [
    "## Read original dataset"
   ]
  },
  {
   "cell_type": "code",
   "execution_count": 4,
   "metadata": {
    "ExecuteTime": {
     "end_time": "2019-06-22T10:58:57.791750Z",
     "start_time": "2019-06-22T10:58:55.517844Z"
    }
   },
   "outputs": [],
   "source": [
    "ams_reviews = './amsterdam/reviews.csv'\n",
    "ams_df = pd.read_csv(ams_reviews)"
   ]
  },
  {
   "cell_type": "code",
   "execution_count": 5,
   "metadata": {
    "ExecuteTime": {
     "end_time": "2019-06-22T10:58:57.830107Z",
     "start_time": "2019-06-22T10:58:57.794680Z"
    }
   },
   "outputs": [
    {
     "data": {
      "text/html": [
       "<div>\n",
       "<style scoped>\n",
       "    .dataframe tbody tr th:only-of-type {\n",
       "        vertical-align: middle;\n",
       "    }\n",
       "\n",
       "    .dataframe tbody tr th {\n",
       "        vertical-align: top;\n",
       "    }\n",
       "\n",
       "    .dataframe thead th {\n",
       "        text-align: right;\n",
       "    }\n",
       "</style>\n",
       "<table border=\"1\" class=\"dataframe\">\n",
       "  <thead>\n",
       "    <tr style=\"text-align: right;\">\n",
       "      <th></th>\n",
       "      <th>listing_id</th>\n",
       "      <th>id</th>\n",
       "      <th>date</th>\n",
       "      <th>reviewer_id</th>\n",
       "      <th>reviewer_name</th>\n",
       "      <th>comments</th>\n",
       "    </tr>\n",
       "  </thead>\n",
       "  <tbody>\n",
       "    <tr>\n",
       "      <th>0</th>\n",
       "      <td>2818</td>\n",
       "      <td>1191</td>\n",
       "      <td>2009-03-30</td>\n",
       "      <td>10952</td>\n",
       "      <td>Lam</td>\n",
       "      <td>Daniel is really cool. The place was nice and ...</td>\n",
       "    </tr>\n",
       "    <tr>\n",
       "      <th>1</th>\n",
       "      <td>2818</td>\n",
       "      <td>1771</td>\n",
       "      <td>2009-04-24</td>\n",
       "      <td>12798</td>\n",
       "      <td>Alice</td>\n",
       "      <td>Daniel is the most amazing host! His place is ...</td>\n",
       "    </tr>\n",
       "    <tr>\n",
       "      <th>2</th>\n",
       "      <td>2818</td>\n",
       "      <td>1989</td>\n",
       "      <td>2009-05-03</td>\n",
       "      <td>11869</td>\n",
       "      <td>Natalja</td>\n",
       "      <td>We had such a great time in Amsterdam. Daniel ...</td>\n",
       "    </tr>\n",
       "    <tr>\n",
       "      <th>3</th>\n",
       "      <td>2818</td>\n",
       "      <td>2797</td>\n",
       "      <td>2009-05-18</td>\n",
       "      <td>14064</td>\n",
       "      <td>Enrique</td>\n",
       "      <td>Very professional operation. Room is very clea...</td>\n",
       "    </tr>\n",
       "    <tr>\n",
       "      <th>4</th>\n",
       "      <td>2818</td>\n",
       "      <td>3151</td>\n",
       "      <td>2009-05-25</td>\n",
       "      <td>17977</td>\n",
       "      <td>Sherwin</td>\n",
       "      <td>Daniel is highly recommended.  He provided all...</td>\n",
       "    </tr>\n",
       "  </tbody>\n",
       "</table>\n",
       "</div>"
      ],
      "text/plain": [
       "   listing_id    id        date  reviewer_id reviewer_name  \\\n",
       "0        2818  1191  2009-03-30        10952           Lam   \n",
       "1        2818  1771  2009-04-24        12798         Alice   \n",
       "2        2818  1989  2009-05-03        11869       Natalja   \n",
       "3        2818  2797  2009-05-18        14064       Enrique   \n",
       "4        2818  3151  2009-05-25        17977       Sherwin   \n",
       "\n",
       "                                            comments  \n",
       "0  Daniel is really cool. The place was nice and ...  \n",
       "1  Daniel is the most amazing host! His place is ...  \n",
       "2  We had such a great time in Amsterdam. Daniel ...  \n",
       "3  Very professional operation. Room is very clea...  \n",
       "4  Daniel is highly recommended.  He provided all...  "
      ]
     },
     "execution_count": 5,
     "metadata": {},
     "output_type": "execute_result"
    }
   ],
   "source": [
    "ams_df.head()"
   ]
  },
  {
   "cell_type": "code",
   "execution_count": 6,
   "metadata": {
    "ExecuteTime": {
     "end_time": "2019-06-22T10:58:57.841530Z",
     "start_time": "2019-06-22T10:58:57.833418Z"
    }
   },
   "outputs": [
    {
     "data": {
      "text/plain": [
       "(452637, 6)"
      ]
     },
     "execution_count": 6,
     "metadata": {},
     "output_type": "execute_result"
    }
   ],
   "source": [
    "ams_df.shape"
   ]
  },
  {
   "cell_type": "code",
   "execution_count": 8,
   "metadata": {
    "ExecuteTime": {
     "end_time": "2019-06-22T11:00:17.223547Z",
     "start_time": "2019-06-22T11:00:17.088786Z"
    }
   },
   "outputs": [
    {
     "data": {
      "text/html": [
       "<div>\n",
       "<style scoped>\n",
       "    .dataframe tbody tr th:only-of-type {\n",
       "        vertical-align: middle;\n",
       "    }\n",
       "\n",
       "    .dataframe tbody tr th {\n",
       "        vertical-align: top;\n",
       "    }\n",
       "\n",
       "    .dataframe thead th {\n",
       "        text-align: right;\n",
       "    }\n",
       "</style>\n",
       "<table border=\"1\" class=\"dataframe\">\n",
       "  <thead>\n",
       "    <tr style=\"text-align: right;\">\n",
       "      <th></th>\n",
       "      <th>listing_id</th>\n",
       "      <th>id</th>\n",
       "      <th>date</th>\n",
       "      <th>reviewer_id</th>\n",
       "      <th>reviewer_name</th>\n",
       "      <th>comments</th>\n",
       "    </tr>\n",
       "  </thead>\n",
       "  <tbody>\n",
       "    <tr>\n",
       "      <th>0</th>\n",
       "      <td>2818</td>\n",
       "      <td>1191</td>\n",
       "      <td>2009-03-30</td>\n",
       "      <td>10952</td>\n",
       "      <td>Lam</td>\n",
       "      <td>Daniel is really cool. The place was nice and ...</td>\n",
       "    </tr>\n",
       "    <tr>\n",
       "      <th>1</th>\n",
       "      <td>2818</td>\n",
       "      <td>1771</td>\n",
       "      <td>2009-04-24</td>\n",
       "      <td>12798</td>\n",
       "      <td>Alice</td>\n",
       "      <td>Daniel is the most amazing host! His place is ...</td>\n",
       "    </tr>\n",
       "    <tr>\n",
       "      <th>2</th>\n",
       "      <td>2818</td>\n",
       "      <td>1989</td>\n",
       "      <td>2009-05-03</td>\n",
       "      <td>11869</td>\n",
       "      <td>Natalja</td>\n",
       "      <td>We had such a great time in Amsterdam. Daniel ...</td>\n",
       "    </tr>\n",
       "    <tr>\n",
       "      <th>3</th>\n",
       "      <td>2818</td>\n",
       "      <td>2797</td>\n",
       "      <td>2009-05-18</td>\n",
       "      <td>14064</td>\n",
       "      <td>Enrique</td>\n",
       "      <td>Very professional operation. Room is very clea...</td>\n",
       "    </tr>\n",
       "    <tr>\n",
       "      <th>4</th>\n",
       "      <td>2818</td>\n",
       "      <td>3151</td>\n",
       "      <td>2009-05-25</td>\n",
       "      <td>17977</td>\n",
       "      <td>Sherwin</td>\n",
       "      <td>Daniel is highly recommended.  He provided all...</td>\n",
       "    </tr>\n",
       "  </tbody>\n",
       "</table>\n",
       "</div>"
      ],
      "text/plain": [
       "   listing_id    id        date  reviewer_id reviewer_name  \\\n",
       "0        2818  1191  2009-03-30        10952           Lam   \n",
       "1        2818  1771  2009-04-24        12798         Alice   \n",
       "2        2818  1989  2009-05-03        11869       Natalja   \n",
       "3        2818  2797  2009-05-18        14064       Enrique   \n",
       "4        2818  3151  2009-05-25        17977       Sherwin   \n",
       "\n",
       "                                            comments  \n",
       "0  Daniel is really cool. The place was nice and ...  \n",
       "1  Daniel is the most amazing host! His place is ...  \n",
       "2  We had such a great time in Amsterdam. Daniel ...  \n",
       "3  Very professional operation. Room is very clea...  \n",
       "4  Daniel is highly recommended.  He provided all...  "
      ]
     },
     "execution_count": 8,
     "metadata": {},
     "output_type": "execute_result"
    }
   ],
   "source": [
    "non_empty_comment_df = ams_df[~ams_df.comments.isna()]\n",
    "non_empty_comment_df.head()"
   ]
  },
  {
   "cell_type": "markdown",
   "metadata": {
    "ExecuteTime": {
     "end_time": "2019-06-22T10:56:55.115150Z",
     "start_time": "2019-06-22T10:56:55.095550Z"
    }
   },
   "source": [
    "## Added language identification to enhance dataset"
   ]
  },
  {
   "cell_type": "code",
   "execution_count": 9,
   "metadata": {
    "ExecuteTime": {
     "end_time": "2019-06-22T11:01:19.436516Z",
     "start_time": "2019-06-22T11:01:18.361208Z"
    }
   },
   "outputs": [
    {
     "data": {
      "text/html": [
       "<div>\n",
       "<style scoped>\n",
       "    .dataframe tbody tr th:only-of-type {\n",
       "        vertical-align: middle;\n",
       "    }\n",
       "\n",
       "    .dataframe tbody tr th {\n",
       "        vertical-align: top;\n",
       "    }\n",
       "\n",
       "    .dataframe thead th {\n",
       "        text-align: right;\n",
       "    }\n",
       "</style>\n",
       "<table border=\"1\" class=\"dataframe\">\n",
       "  <thead>\n",
       "    <tr style=\"text-align: right;\">\n",
       "      <th></th>\n",
       "      <th>comments</th>\n",
       "      <th>language</th>\n",
       "      <th>probability</th>\n",
       "    </tr>\n",
       "  </thead>\n",
       "  <tbody>\n",
       "    <tr>\n",
       "      <th>0</th>\n",
       "      <td>daniel is really cool. the place was nice and ...</td>\n",
       "      <td>en</td>\n",
       "      <td>0.992321</td>\n",
       "    </tr>\n",
       "    <tr>\n",
       "      <th>1</th>\n",
       "      <td>daniel is the most amazing host! his place is ...</td>\n",
       "      <td>en</td>\n",
       "      <td>0.991255</td>\n",
       "    </tr>\n",
       "    <tr>\n",
       "      <th>2</th>\n",
       "      <td>we had such a great time in amsterdam. daniel ...</td>\n",
       "      <td>en</td>\n",
       "      <td>0.995635</td>\n",
       "    </tr>\n",
       "    <tr>\n",
       "      <th>3</th>\n",
       "      <td>very professional operation. room is very clea...</td>\n",
       "      <td>en</td>\n",
       "      <td>0.990710</td>\n",
       "    </tr>\n",
       "    <tr>\n",
       "      <th>4</th>\n",
       "      <td>daniel is highly recommended.  he provided all...</td>\n",
       "      <td>en</td>\n",
       "      <td>0.967161</td>\n",
       "    </tr>\n",
       "  </tbody>\n",
       "</table>\n",
       "</div>"
      ],
      "text/plain": [
       "                                            comments language  probability\n",
       "0  daniel is really cool. the place was nice and ...       en     0.992321\n",
       "1  daniel is the most amazing host! his place is ...       en     0.991255\n",
       "2  we had such a great time in amsterdam. daniel ...       en     0.995635\n",
       "3  very professional operation. room is very clea...       en     0.990710\n",
       "4  daniel is highly recommended.  he provided all...       en     0.967161"
      ]
     },
     "execution_count": 9,
     "metadata": {},
     "output_type": "execute_result"
    }
   ],
   "source": [
    "# from fastText language identification\n",
    "lang_df = pd.read_csv('with_language_identified.csv', lineterminator='\\n')\n",
    "lang_df.head()"
   ]
  },
  {
   "cell_type": "code",
   "execution_count": 12,
   "metadata": {
    "ExecuteTime": {
     "end_time": "2019-06-22T11:02:00.692772Z",
     "start_time": "2019-06-22T11:02:00.583288Z"
    }
   },
   "outputs": [
    {
     "name": "stdout",
     "output_type": "stream",
     "text": [
      "EMPTY ROWS: (0, 3)\n",
      "NOT EMPTY ROWS: (452457, 3)\n"
     ]
    }
   ],
   "source": [
    "# any NA?\n",
    "print(\"EMPTY ROWS: {}\".format(lang_df[lang_df.language.isna()].shape))\n",
    "lang_df_non_empty = lang_df[(~lang_df.language.isna()) & (~lang_df.comments.isna())]\n",
    "print(\"NOT EMPTY ROWS: {}\".format(lang_df_non_empty.shape))"
   ]
  },
  {
   "cell_type": "code",
   "execution_count": 13,
   "metadata": {
    "ExecuteTime": {
     "end_time": "2019-06-22T11:02:27.910836Z",
     "start_time": "2019-06-22T11:02:27.844602Z"
    }
   },
   "outputs": [
    {
     "data": {
      "text/plain": [
       "en    367980\n",
       "fr     32295\n",
       "de     17230\n",
       "es     12225\n",
       "nl      6627\n",
       "it      6517\n",
       "pt      2391\n",
       "ru      1788\n",
       "zh      1684\n",
       "ko       678\n",
       "Name: language, dtype: int64"
      ]
     },
     "execution_count": 13,
     "metadata": {},
     "output_type": "execute_result"
    }
   ],
   "source": [
    "lang_df['language'].value_counts()[:10]"
   ]
  },
  {
   "cell_type": "code",
   "execution_count": 14,
   "metadata": {
    "ExecuteTime": {
     "end_time": "2019-06-22T11:02:28.083305Z",
     "start_time": "2019-06-22T11:02:27.915280Z"
    }
   },
   "outputs": [
    {
     "name": "stdout",
     "output_type": "stream",
     "text": [
      "FRENCH\n",
      "                                             comments language  probability\n",
      "69  daniel est très hospitalier. il est amical et ...       fr     0.980221\n",
      "GERMAN\n",
      "                                             comments language  probability\n",
      "76  sehr saubere und gepflegte wohnung. daniel war...       de     0.994642\n",
      "SPANISH\n",
      "                                              comments language  probability\n",
      "101  esta ha sido nuestra primera experiencia con a...       es     0.983545\n"
     ]
    }
   ],
   "source": [
    "### Let's look at the other languages!\n",
    "\n",
    "print(\"FRENCH\")\n",
    "print(lang_df[lang_df.language == 'fr'].head(1))\n",
    "print(\"GERMAN\")\n",
    "print(lang_df[lang_df.language == 'de'].head(1))\n",
    "print(\"SPANISH\")\n",
    "print(lang_df[lang_df.language == 'es'].head(1))"
   ]
  },
  {
   "cell_type": "markdown",
   "metadata": {},
   "source": [
    "### Add language to main dataset\n",
    "\n",
    "This is to be used to filter out all non english reviews"
   ]
  },
  {
   "cell_type": "code",
   "execution_count": 15,
   "metadata": {
    "ExecuteTime": {
     "end_time": "2019-06-22T11:07:40.679180Z",
     "start_time": "2019-06-22T11:07:40.550284Z"
    }
   },
   "outputs": [
    {
     "name": "stdout",
     "output_type": "stream",
     "text": [
      "Number of unique languages found: 67\n"
     ]
    }
   ],
   "source": [
    "non_empty_comment_df.reset_index(inplace=True)\n",
    "lang_df.reset_index(inplace=True)\n",
    "print(\"Number of unique languages found: {}\".format(lang_df['language'].nunique()))\n",
    "joined_df = non_empty_comment_df.join(lang_df[['comments', 'language', 'probability']], rsuffix=\"_l\")"
   ]
  },
  {
   "cell_type": "markdown",
   "metadata": {},
   "source": [
    "## Explore new dataset"
   ]
  },
  {
   "cell_type": "code",
   "execution_count": 16,
   "metadata": {
    "ExecuteTime": {
     "end_time": "2019-06-22T11:09:38.761638Z",
     "start_time": "2019-06-22T11:09:38.434358Z"
    },
    "scrolled": true
   },
   "outputs": [
    {
     "data": {
      "text/html": [
       "<div>\n",
       "<style scoped>\n",
       "    .dataframe tbody tr th:only-of-type {\n",
       "        vertical-align: middle;\n",
       "    }\n",
       "\n",
       "    .dataframe tbody tr th {\n",
       "        vertical-align: top;\n",
       "    }\n",
       "\n",
       "    .dataframe thead th {\n",
       "        text-align: right;\n",
       "    }\n",
       "</style>\n",
       "<table border=\"1\" class=\"dataframe\">\n",
       "  <thead>\n",
       "    <tr style=\"text-align: right;\">\n",
       "      <th></th>\n",
       "      <th>index</th>\n",
       "      <th>listing_id</th>\n",
       "      <th>id</th>\n",
       "      <th>date</th>\n",
       "      <th>reviewer_id</th>\n",
       "      <th>reviewer_name</th>\n",
       "      <th>comments</th>\n",
       "      <th>comments_l</th>\n",
       "      <th>language</th>\n",
       "      <th>probability</th>\n",
       "    </tr>\n",
       "  </thead>\n",
       "  <tbody>\n",
       "    <tr>\n",
       "      <th>521</th>\n",
       "      <td>521</td>\n",
       "      <td>20168</td>\n",
       "      <td>442764467</td>\n",
       "      <td>2019-04-24</td>\n",
       "      <td>160929563</td>\n",
       "      <td>Justin</td>\n",
       "      <td>q</td>\n",
       "      <td>q</td>\n",
       "      <td>en</td>\n",
       "      <td>0.124504</td>\n",
       "    </tr>\n",
       "    <tr>\n",
       "      <th>1090</th>\n",
       "      <td>1090</td>\n",
       "      <td>28658</td>\n",
       "      <td>225376074</td>\n",
       "      <td>2018-01-06</td>\n",
       "      <td>156519085</td>\n",
       "      <td>Yelena Levy</td>\n",
       "      <td>.</td>\n",
       "      <td>.</td>\n",
       "      <td>en</td>\n",
       "      <td>0.213880</td>\n",
       "    </tr>\n",
       "    <tr>\n",
       "      <th>3511</th>\n",
       "      <td>3511</td>\n",
       "      <td>47061</td>\n",
       "      <td>112508867</td>\n",
       "      <td>2016-11-06</td>\n",
       "      <td>9300675</td>\n",
       "      <td>Tatyana</td>\n",
       "      <td>-</td>\n",
       "      <td>-</td>\n",
       "      <td>en</td>\n",
       "      <td>0.124504</td>\n",
       "    </tr>\n",
       "    <tr>\n",
       "      <th>5524</th>\n",
       "      <td>5526</td>\n",
       "      <td>55256</td>\n",
       "      <td>353526012</td>\n",
       "      <td>2018-11-28</td>\n",
       "      <td>48974801</td>\n",
       "      <td>Kristoffer</td>\n",
       "      <td>.</td>\n",
       "      <td>.</td>\n",
       "      <td>en</td>\n",
       "      <td>0.213880</td>\n",
       "    </tr>\n",
       "    <tr>\n",
       "      <th>9367</th>\n",
       "      <td>9370</td>\n",
       "      <td>82482</td>\n",
       "      <td>435014347</td>\n",
       "      <td>2019-04-09</td>\n",
       "      <td>98927426</td>\n",
       "      <td>Gabriele</td>\n",
       "      <td>.</td>\n",
       "      <td>.</td>\n",
       "      <td>en</td>\n",
       "      <td>0.213880</td>\n",
       "    </tr>\n",
       "  </tbody>\n",
       "</table>\n",
       "</div>"
      ],
      "text/plain": [
       "      index  listing_id         id        date  reviewer_id reviewer_name  \\\n",
       "521     521       20168  442764467  2019-04-24    160929563        Justin   \n",
       "1090   1090       28658  225376074  2018-01-06    156519085   Yelena Levy   \n",
       "3511   3511       47061  112508867  2016-11-06      9300675       Tatyana   \n",
       "5524   5526       55256  353526012  2018-11-28     48974801    Kristoffer   \n",
       "9367   9370       82482  435014347  2019-04-09     98927426      Gabriele   \n",
       "\n",
       "     comments comments_l language  probability  \n",
       "521         q          q       en     0.124504  \n",
       "1090        .          .       en     0.213880  \n",
       "3511        -          -       en     0.124504  \n",
       "5524        .          .       en     0.213880  \n",
       "9367        .          .       en     0.213880  "
      ]
     },
     "execution_count": 16,
     "metadata": {},
     "output_type": "execute_result"
    }
   ],
   "source": [
    "## sample records where review length was less than 2\n",
    "joined_df[joined_df.comments.apply(lambda x: len(x)<2)].head()"
   ]
  },
  {
   "cell_type": "code",
   "execution_count": 37,
   "metadata": {
    "ExecuteTime": {
     "end_time": "2019-06-22T11:27:44.939973Z",
     "start_time": "2019-06-22T11:27:42.693693Z"
    }
   },
   "outputs": [],
   "source": [
    "joined_df['review_length'] = joined_df['comments'].apply(lambda x: len(x))\n",
    "joined_df['sentence_length'] = joined_df['comments'].apply(lambda x: len(x.split(\" \")))"
   ]
  },
  {
   "cell_type": "code",
   "execution_count": 40,
   "metadata": {
    "ExecuteTime": {
     "end_time": "2019-06-22T11:29:07.731072Z",
     "start_time": "2019-06-22T11:29:07.713490Z"
    }
   },
   "outputs": [
    {
     "data": {
      "text/plain": [
       "(1, 5620, 293.4360353710044)"
      ]
     },
     "execution_count": 40,
     "metadata": {},
     "output_type": "execute_result"
    }
   ],
   "source": [
    "# Review length\n",
    "joined_df.review_length.min(), joined_df.review_length.max(), joined_df.review_length.mean()"
   ]
  },
  {
   "cell_type": "code",
   "execution_count": 41,
   "metadata": {
    "ExecuteTime": {
     "end_time": "2019-06-22T11:29:13.614235Z",
     "start_time": "2019-06-22T11:29:13.594151Z"
    }
   },
   "outputs": [
    {
     "data": {
      "text/plain": [
       "(1, 1000, 51.73906480337532)"
      ]
     },
     "execution_count": 41,
     "metadata": {},
     "output_type": "execute_result"
    }
   ],
   "source": [
    "# Sentence length\n",
    "joined_df.sentence_length.min(), joined_df.sentence_length.max(), joined_df.sentence_length.mean()"
   ]
  },
  {
   "cell_type": "markdown",
   "metadata": {
    "ExecuteTime": {
     "end_time": "2019-06-22T11:21:13.606330Z",
     "start_time": "2019-06-22T11:21:13.601982Z"
    }
   },
   "source": [
    "### Length of english reviews given"
   ]
  },
  {
   "cell_type": "code",
   "execution_count": 46,
   "metadata": {
    "ExecuteTime": {
     "end_time": "2019-06-22T11:32:31.760492Z",
     "start_time": "2019-06-22T11:32:31.648949Z"
    }
   },
   "outputs": [
    {
     "name": "stdout",
     "output_type": "stream",
     "text": [
      "Size of english review dataset: (365217, 12)\n"
     ]
    }
   ],
   "source": [
    "eng_reviews_df = joined_df[(joined_df.language == 'en') & (joined_df.probability > 0.5)]\n",
    "print(\"Size of english review dataset: {}\".format(eng_reviews_df.shape))"
   ]
  },
  {
   "cell_type": "code",
   "execution_count": 62,
   "metadata": {
    "ExecuteTime": {
     "end_time": "2019-06-23T10:33:24.149166Z",
     "start_time": "2019-06-23T10:33:23.126214Z"
    }
   },
   "outputs": [
    {
     "name": "stdout",
     "output_type": "stream",
     "text": [
      "Number of short reviews (words): (370, 12)\n",
      "Number of long reviews (words): (44384, 12)\n"
     ]
    }
   ],
   "source": [
    "print(\"Number of short reviews (words): {}\".format(eng_reviews_df[eng_reviews_df.sentence_length < 2].shape))\n",
    "print(\"Number of long reviews (words): {}\".format(eng_reviews_df[eng_reviews_df.sentence_length >= 100].shape))"
   ]
  },
  {
   "cell_type": "code",
   "execution_count": 50,
   "metadata": {
    "ExecuteTime": {
     "end_time": "2019-06-22T11:33:53.881703Z",
     "start_time": "2019-06-22T11:33:53.582518Z"
    }
   },
   "outputs": [
    {
     "data": {
      "text/plain": [
       "<matplotlib.axes._subplots.AxesSubplot at 0x1a2c8f0940>"
      ]
     },
     "execution_count": 50,
     "metadata": {},
     "output_type": "execute_result"
    },
    {
     "data": {
      "image/png": "[encoded data removed]",
      "text/plain": [
       "<matplotlib.figure.Figure at 0x1a1dea83c8>"
      ]
     },
     "metadata": {
      "needs_background": "light"
     },
     "output_type": "display_data"
    }
   ],
   "source": [
    "eng_reviews_df['sentence_length'].hist()"
   ]
  },
  {
   "cell_type": "code",
   "execution_count": 54,
   "metadata": {
    "ExecuteTime": {
     "end_time": "2019-06-22T11:37:39.092312Z",
     "start_time": "2019-06-22T11:37:39.084093Z"
    }
   },
   "outputs": [
    {
     "name": "stdout",
     "output_type": "stream",
     "text": [
      "One word reviews: (370, 12)\n"
     ]
    }
   ],
   "source": [
    "print(\"One word reviews: {}\".format(eng_reviews_df[eng_reviews_df.sentence_length == 1].shape))"
   ]
  },
  {
   "cell_type": "code",
   "execution_count": 56,
   "metadata": {
    "ExecuteTime": {
     "end_time": "2019-06-22T11:38:22.640686Z",
     "start_time": "2019-06-22T11:38:22.615968Z"
    }
   },
   "outputs": [
    {
     "data": {
      "text/html": [
       "<div>\n",
       "<style scoped>\n",
       "    .dataframe tbody tr th:only-of-type {\n",
       "        vertical-align: middle;\n",
       "    }\n",
       "\n",
       "    .dataframe tbody tr th {\n",
       "        vertical-align: top;\n",
       "    }\n",
       "\n",
       "    .dataframe thead th {\n",
       "        text-align: right;\n",
       "    }\n",
       "</style>\n",
       "<table border=\"1\" class=\"dataframe\">\n",
       "  <thead>\n",
       "    <tr style=\"text-align: right;\">\n",
       "      <th></th>\n",
       "      <th>index</th>\n",
       "      <th>listing_id</th>\n",
       "      <th>id</th>\n",
       "      <th>date</th>\n",
       "      <th>reviewer_id</th>\n",
       "      <th>reviewer_name</th>\n",
       "      <th>comments</th>\n",
       "      <th>comments_l</th>\n",
       "      <th>language</th>\n",
       "      <th>probability</th>\n",
       "      <th>review_length</th>\n",
       "      <th>sentence_length</th>\n",
       "    </tr>\n",
       "  </thead>\n",
       "  <tbody>\n",
       "    <tr>\n",
       "      <th>450560</th>\n",
       "      <td>450735</td>\n",
       "      <td>31998790</td>\n",
       "      <td>440122148</td>\n",
       "      <td>2019-04-20</td>\n",
       "      <td>50672837</td>\n",
       "      <td>Nahuel</td>\n",
       "      <td>Perfection.</td>\n",
       "      <td>perfection.</td>\n",
       "      <td>en</td>\n",
       "      <td>0.758678</td>\n",
       "      <td>11</td>\n",
       "      <td>1</td>\n",
       "    </tr>\n",
       "    <tr>\n",
       "      <th>450561</th>\n",
       "      <td>450736</td>\n",
       "      <td>31998802</td>\n",
       "      <td>412335433</td>\n",
       "      <td>2019-02-15</td>\n",
       "      <td>241910834</td>\n",
       "      <td>Loris</td>\n",
       "      <td>Nice</td>\n",
       "      <td>nice</td>\n",
       "      <td>en</td>\n",
       "      <td>0.633955</td>\n",
       "      <td>4</td>\n",
       "      <td>1</td>\n",
       "    </tr>\n",
       "    <tr>\n",
       "      <th>450675</th>\n",
       "      <td>450850</td>\n",
       "      <td>32067350</td>\n",
       "      <td>438667495</td>\n",
       "      <td>2019-04-17</td>\n",
       "      <td>41938005</td>\n",
       "      <td>Henrik</td>\n",
       "      <td>Perfect.</td>\n",
       "      <td>perfect.</td>\n",
       "      <td>en</td>\n",
       "      <td>0.882706</td>\n",
       "      <td>8</td>\n",
       "      <td>1</td>\n",
       "    </tr>\n",
       "    <tr>\n",
       "      <th>451955</th>\n",
       "      <td>452131</td>\n",
       "      <td>33159282</td>\n",
       "      <td>448328219</td>\n",
       "      <td>2019-05-05</td>\n",
       "      <td>254275704</td>\n",
       "      <td>Jasmina</td>\n",
       "      <td>perfect</td>\n",
       "      <td>perfect</td>\n",
       "      <td>en</td>\n",
       "      <td>0.663002</td>\n",
       "      <td>7</td>\n",
       "      <td>1</td>\n",
       "    </tr>\n",
       "    <tr>\n",
       "      <th>452186</th>\n",
       "      <td>452362</td>\n",
       "      <td>33477670</td>\n",
       "      <td>438695491</td>\n",
       "      <td>2019-04-17</td>\n",
       "      <td>248203373</td>\n",
       "      <td>Diogo</td>\n",
       "      <td>Perfect</td>\n",
       "      <td>perfect</td>\n",
       "      <td>en</td>\n",
       "      <td>0.663002</td>\n",
       "      <td>7</td>\n",
       "      <td>1</td>\n",
       "    </tr>\n",
       "  </tbody>\n",
       "</table>\n",
       "</div>"
      ],
      "text/plain": [
       "         index  listing_id         id        date  reviewer_id reviewer_name  \\\n",
       "450560  450735    31998790  440122148  2019-04-20     50672837        Nahuel   \n",
       "450561  450736    31998802  412335433  2019-02-15    241910834         Loris   \n",
       "450675  450850    32067350  438667495  2019-04-17     41938005        Henrik   \n",
       "451955  452131    33159282  448328219  2019-05-05    254275704       Jasmina   \n",
       "452186  452362    33477670  438695491  2019-04-17    248203373         Diogo   \n",
       "\n",
       "           comments   comments_l language  probability  review_length  \\\n",
       "450560  Perfection.  perfection.       en     0.758678             11   \n",
       "450561         Nice         nice       en     0.633955              4   \n",
       "450675     Perfect.     perfect.       en     0.882706              8   \n",
       "451955      perfect      perfect       en     0.663002              7   \n",
       "452186      Perfect      perfect       en     0.663002              7   \n",
       "\n",
       "        sentence_length  \n",
       "450560                1  \n",
       "450561                1  \n",
       "450675                1  \n",
       "451955                1  \n",
       "452186                1  "
      ]
     },
     "execution_count": 56,
     "metadata": {},
     "output_type": "execute_result"
    }
   ],
   "source": [
    "eng_reviews_df[eng_reviews_df.sentence_length == 1].tail()"
   ]
  },
  {
   "cell_type": "markdown",
   "metadata": {
    "ExecuteTime": {
     "end_time": "2019-06-22T11:33:35.513918Z",
     "start_time": "2019-06-22T11:33:35.504828Z"
    }
   },
   "source": [
    "One word reviews do not much meaningful context into how their experience went - Ok, Nice, Perfect. Do they really mean it? Are they ok in every aspect - location, price, place itself? Hence single word reviews will be excluded."
   ]
  },
  {
   "cell_type": "code",
   "execution_count": 66,
   "metadata": {
    "ExecuteTime": {
     "end_time": "2019-06-23T10:42:30.167762Z",
     "start_time": "2019-06-23T10:42:29.882992Z"
    }
   },
   "outputs": [],
   "source": [
    "eng_reviews_v2_df = eng_reviews_df[eng_reviews_df.sentence_length > 2]"
   ]
  },
  {
   "cell_type": "markdown",
   "metadata": {},
   "source": [
    "### Host cancellation penalty"
   ]
  },
  {
   "cell_type": "code",
   "execution_count": 92,
   "metadata": {
    "ExecuteTime": {
     "end_time": "2019-06-23T11:39:59.015217Z",
     "start_time": "2019-06-23T11:39:58.646213Z"
    }
   },
   "outputs": [
    {
     "name": "stdout",
     "output_type": "stream",
     "text": [
      "Number of reviews that were automated postings: (7004, 13)\n"
     ]
    }
   ],
   "source": [
    "automated_postings = eng_reviews_v2_df[eng_reviews_v2_df.comments.str.contains(\"The host canceled this reservation\")]\n",
    "print(\"Number of reviews that were automated postings: {}\".format(automated_postings.shape))"
   ]
  },
  {
   "cell_type": "markdown",
   "metadata": {},
   "source": [
    "Airbnb tends to post automated reviews when a host cancels a reservation. These are penalties imposed by Airbnb on Host. This should be treated separately from analysing guest reviews."
   ]
  },
  {
   "cell_type": "markdown",
   "metadata": {},
   "source": [
    "## Cleaning and tokenising reviews"
   ]
  },
  {
   "cell_type": "code",
   "execution_count": 118,
   "metadata": {
    "ExecuteTime": {
     "end_time": "2019-06-23T16:26:18.874223Z",
     "start_time": "2019-06-23T16:26:18.831008Z"
    }
   },
   "outputs": [],
   "source": [
    "from nltk.stem.snowball import SnowballStemmer\n",
    "\n",
    "sb = SnowballStemmer(\"english\").stem\n",
    "\n",
    "def join_tokens(token_list):\n",
    "    return \" \".join(token_list)\n",
    "\n",
    "operations = [{\"function\": symbols_replaced},\n",
    "              {\"function\": decontracted},\n",
    "              {\"function\": remove_html_tags},\n",
    "              {\"function\": split_words_and_punctuation},\n",
    "              {\"function\": remove_stopword, \"stopword_list\": english_stop_words},\n",
    "              {\"function\": keep_token_pattern, \"pattern\": '[a-zA-Z]{3,}'},\n",
    "#               {\"function\": apply_text_normalisation, \"func\": sb},\n",
    "              {\"function\": join_tokens}\n",
    "#               {\"function\": create_ngram, \"n\": 2}\n",
    "             ]"
   ]
  },
  {
   "cell_type": "code",
   "execution_count": 119,
   "metadata": {
    "ExecuteTime": {
     "end_time": "2019-06-23T16:29:18.590545Z",
     "start_time": "2019-06-23T16:26:38.705007Z"
    }
   },
   "outputs": [
    {
     "name": "stderr",
     "output_type": "stream",
     "text": [
      "/Users/fionachow/anaconda3/envs/dcuration/lib/python3.6/site-packages/ipykernel_launcher.py:1: SettingWithCopyWarning: \n",
      "A value is trying to be set on a copy of a slice from a DataFrame.\n",
      "Try using .loc[row_indexer,col_indexer] = value instead\n",
      "\n",
      "See the caveats in the documentation: http://pandas.pydata.org/pandas-docs/stable/indexing.html#indexing-view-versus-copy\n",
      "  \"\"\"Entry point for launching an IPython kernel.\n"
     ]
    }
   ],
   "source": [
    "eng_reviews_v2_df['comments_cleaned'] = eng_reviews_v2_df['comments'].apply(lambda x: chain(x.lower(), operations))"
   ]
  },
  {
   "cell_type": "code",
   "execution_count": 120,
   "metadata": {
    "ExecuteTime": {
     "end_time": "2019-06-23T16:33:02.364148Z",
     "start_time": "2019-06-23T16:29:18.594577Z"
    }
   },
   "outputs": [
    {
     "name": "stderr",
     "output_type": "stream",
     "text": [
      "/Users/fionachow/anaconda3/envs/dcuration/lib/python3.6/site-packages/ipykernel_launcher.py:1: SettingWithCopyWarning: \n",
      "A value is trying to be set on a copy of a slice from a DataFrame.\n",
      "Try using .loc[row_indexer,col_indexer] = value instead\n",
      "\n",
      "See the caveats in the documentation: http://pandas.pydata.org/pandas-docs/stable/indexing.html#indexing-view-versus-copy\n",
      "  \"\"\"Entry point for launching an IPython kernel.\n"
     ]
    }
   ],
   "source": [
    "eng_reviews_v2_df['comments_token'] = eng_reviews_v2_df['comments_cleaned'].apply(lambda x: apply_text_normalisation(x.split(\" \"), sb))"
   ]
  },
  {
   "cell_type": "code",
   "execution_count": 125,
   "metadata": {
    "ExecuteTime": {
     "end_time": "2019-06-23T16:45:07.883735Z",
     "start_time": "2019-06-23T16:45:01.963985Z"
    }
   },
   "outputs": [
    {
     "name": "stderr",
     "output_type": "stream",
     "text": [
      "/Users/fionachow/anaconda3/envs/dcuration/lib/python3.6/site-packages/ipykernel_launcher.py:1: SettingWithCopyWarning: \n",
      "A value is trying to be set on a copy of a slice from a DataFrame.\n",
      "Try using .loc[row_indexer,col_indexer] = value instead\n",
      "\n",
      "See the caveats in the documentation: http://pandas.pydata.org/pandas-docs/stable/indexing.html#indexing-view-versus-copy\n",
      "  \"\"\"Entry point for launching an IPython kernel.\n"
     ]
    }
   ],
   "source": [
    "eng_reviews_v2_df['comments_token_str'] = eng_reviews_v2_df['comments_token'].apply(lambda x: \" \".join(x))"
   ]
  },
  {
   "cell_type": "code",
   "execution_count": 126,
   "metadata": {
    "ExecuteTime": {
     "end_time": "2019-06-23T16:45:22.414470Z",
     "start_time": "2019-06-23T16:45:12.477636Z"
    }
   },
   "outputs": [],
   "source": [
    "eng_reviews_v2_df.to_json(\"preprocessed_english_reviews.json\", orient=\"records\")"
   ]
  },
  {
   "cell_type": "markdown",
   "metadata": {},
   "source": [
    "### Term Frequency Inverse Document Frequency\n",
    "\n",
    "Tfidf used to highlight important words from the reviews. Words which are used frequently within the same document and across documents are not given high weighting as they are treated as common words. Words which appear frequently within few documents on the other hand makes the words more important and relevant."
   ]
  },
  {
   "cell_type": "code",
   "execution_count": 87,
   "metadata": {
    "ExecuteTime": {
     "end_time": "2019-06-23T11:25:58.673364Z",
     "start_time": "2019-06-23T11:25:58.651062Z"
    }
   },
   "outputs": [],
   "source": [
    "grouped_eng_reviews = eng_reviews_v2_df.groupby('listing_id')"
   ]
  },
  {
   "cell_type": "markdown",
   "metadata": {},
   "source": [
    "#### Using only unigrams"
   ]
  },
  {
   "cell_type": "code",
   "execution_count": 89,
   "metadata": {
    "ExecuteTime": {
     "end_time": "2019-06-23T11:30:30.348266Z",
     "start_time": "2019-06-23T11:30:19.701264Z"
    }
   },
   "outputs": [
    {
     "name": "stdout",
     "output_type": "stream",
     "text": [
      "(362300, 1000)\n"
     ]
    }
   ],
   "source": [
    "def dummy_fun(token):\n",
    "    return token\n",
    "\n",
    "count_vectorizer2 = TfidfVectorizer(\n",
    "                        strip_accents='unicode',\n",
    "                        preprocessor=dummy_fun,\n",
    "                        analyzer='word',\n",
    "                        ngram_range=(1, 1),\n",
    "                        min_df=10,\n",
    "                        use_idf=True, smooth_idf=True, \n",
    "                        max_features = 1000)\n",
    "\n",
    "bag_of_words2 = count_vectorizer2.fit_transform(eng_reviews_v2_df['comments_token'])\n",
    "print(bag_of_words2.shape)"
   ]
  },
  {
   "cell_type": "code",
   "execution_count": 93,
   "metadata": {
    "ExecuteTime": {
     "end_time": "2019-06-23T13:42:50.268828Z",
     "start_time": "2019-06-23T13:42:49.501881Z"
    }
   },
   "outputs": [
    {
     "name": "stdout",
     "output_type": "stream",
     "text": [
      "Number of reviews for listing#2818: (211,)\n",
      "['daniel', 'stay', 'room', 'host', 'clean', 'place', 'amsterdam', 'great', 'map', 'provid']\n"
     ]
    }
   ],
   "source": [
    "for listing_id, gdf in grouped_eng_reviews:\n",
    "    print(\"Number of reviews for listing#{}: {}\".format(listing_id, gdf['comments_token'].shape))\n",
    "    listing_words = count_vectorizer2.transform(gdf['comments_token'])\n",
    "    feature_names = count_vectorizer2.get_feature_names()\n",
    "    top_tokens = print_top_tokens(feature_names, listing_words)\n",
    "    print([token[0] for token in top_tokens])\n",
    "    break"
   ]
  },
  {
   "cell_type": "markdown",
   "metadata": {},
   "source": [
    "Unigrams themselves do not provide much insight into reviews that were given for Listing #2818.\n",
    "\n",
    "The only 3 points I can understand from the top 10 tokens are:\n",
    "1. The host is Daniel (which is irrelevant information we do not want to know via reviews)\n",
    "2. Most guests have stayed in private rooms (again irrelevant information since we will already know this via the listing itself)\n",
    "3. Most guests think that his room is clean (Finally a relevant piece of information!)"
   ]
  },
  {
   "cell_type": "markdown",
   "metadata": {},
   "source": [
    "#### Using bigram"
   ]
  },
  {
   "cell_type": "code",
   "execution_count": 124,
   "metadata": {
    "ExecuteTime": {
     "end_time": "2019-06-23T16:38:12.615736Z",
     "start_time": "2019-06-23T16:38:12.356804Z"
    },
    "collapsed": true
   },
   "outputs": [
    {
     "ename": "AttributeError",
     "evalue": "'list' object has no attribute 'lower'",
     "output_type": "error",
     "traceback": [
      "\u001b[0;31m---------------------------------------------------------------------------\u001b[0m",
      "\u001b[0;31mAttributeError\u001b[0m                            Traceback (most recent call last)",
      "\u001b[0;32m<ipython-input-124-c4a1b8cb9964>\u001b[0m in \u001b[0;36m<module>\u001b[0;34m\u001b[0m\n\u001b[1;32m      8\u001b[0m                         max_features = 1000)\n\u001b[1;32m      9\u001b[0m \u001b[0;34m\u001b[0m\u001b[0m\n\u001b[0;32m---> 10\u001b[0;31m \u001b[0mbag_of_words\u001b[0m \u001b[0;34m=\u001b[0m \u001b[0mcount_vectorizer\u001b[0m\u001b[0;34m.\u001b[0m\u001b[0mfit_transform\u001b[0m\u001b[0;34m(\u001b[0m\u001b[0meng_reviews_v2_df\u001b[0m\u001b[0;34m[\u001b[0m\u001b[0;34m'comments_token'\u001b[0m\u001b[0;34m]\u001b[0m\u001b[0;34m)\u001b[0m\u001b[0;34m\u001b[0m\u001b[0m\n\u001b[0m\u001b[1;32m     11\u001b[0m \u001b[0mprint\u001b[0m\u001b[0;34m(\u001b[0m\u001b[0mbag_of_words\u001b[0m\u001b[0;34m.\u001b[0m\u001b[0mshape\u001b[0m\u001b[0;34m)\u001b[0m\u001b[0;34m\u001b[0m\u001b[0m\n",
      "\u001b[0;32m~/anaconda3/envs/dcuration/lib/python3.6/site-packages/sklearn/feature_extraction/text.py\u001b[0m in \u001b[0;36mfit_transform\u001b[0;34m(self, raw_documents, y)\u001b[0m\n\u001b[1;32m   1603\u001b[0m         \"\"\"\n\u001b[1;32m   1604\u001b[0m         \u001b[0mself\u001b[0m\u001b[0;34m.\u001b[0m\u001b[0m_check_params\u001b[0m\u001b[0;34m(\u001b[0m\u001b[0;34m)\u001b[0m\u001b[0;34m\u001b[0m\u001b[0m\n\u001b[0;32m-> 1605\u001b[0;31m         \u001b[0mX\u001b[0m \u001b[0;34m=\u001b[0m \u001b[0msuper\u001b[0m\u001b[0;34m(\u001b[0m\u001b[0mTfidfVectorizer\u001b[0m\u001b[0;34m,\u001b[0m \u001b[0mself\u001b[0m\u001b[0;34m)\u001b[0m\u001b[0;34m.\u001b[0m\u001b[0mfit_transform\u001b[0m\u001b[0;34m(\u001b[0m\u001b[0mraw_documents\u001b[0m\u001b[0;34m)\u001b[0m\u001b[0;34m\u001b[0m\u001b[0m\n\u001b[0m\u001b[1;32m   1606\u001b[0m         \u001b[0mself\u001b[0m\u001b[0;34m.\u001b[0m\u001b[0m_tfidf\u001b[0m\u001b[0;34m.\u001b[0m\u001b[0mfit\u001b[0m\u001b[0;34m(\u001b[0m\u001b[0mX\u001b[0m\u001b[0;34m)\u001b[0m\u001b[0;34m\u001b[0m\u001b[0m\n\u001b[1;32m   1607\u001b[0m         \u001b[0;31m# X is already a transformed view of raw_documents so\u001b[0m\u001b[0;34m\u001b[0m\u001b[0;34m\u001b[0m\u001b[0m\n",
      "\u001b[0;32m~/anaconda3/envs/dcuration/lib/python3.6/site-packages/sklearn/feature_extraction/text.py\u001b[0m in \u001b[0;36mfit_transform\u001b[0;34m(self, raw_documents, y)\u001b[0m\n\u001b[1;32m   1030\u001b[0m \u001b[0;34m\u001b[0m\u001b[0m\n\u001b[1;32m   1031\u001b[0m         vocabulary, X = self._count_vocab(raw_documents,\n\u001b[0;32m-> 1032\u001b[0;31m                                           self.fixed_vocabulary_)\n\u001b[0m\u001b[1;32m   1033\u001b[0m \u001b[0;34m\u001b[0m\u001b[0m\n\u001b[1;32m   1034\u001b[0m         \u001b[0;32mif\u001b[0m \u001b[0mself\u001b[0m\u001b[0;34m.\u001b[0m\u001b[0mbinary\u001b[0m\u001b[0;34m:\u001b[0m\u001b[0;34m\u001b[0m\u001b[0m\n",
      "\u001b[0;32m~/anaconda3/envs/dcuration/lib/python3.6/site-packages/sklearn/feature_extraction/text.py\u001b[0m in \u001b[0;36m_count_vocab\u001b[0;34m(self, raw_documents, fixed_vocab)\u001b[0m\n\u001b[1;32m    940\u001b[0m         \u001b[0;32mfor\u001b[0m \u001b[0mdoc\u001b[0m \u001b[0;32min\u001b[0m \u001b[0mraw_documents\u001b[0m\u001b[0;34m:\u001b[0m\u001b[0;34m\u001b[0m\u001b[0m\n\u001b[1;32m    941\u001b[0m             \u001b[0mfeature_counter\u001b[0m \u001b[0;34m=\u001b[0m \u001b[0;34m{\u001b[0m\u001b[0;34m}\u001b[0m\u001b[0;34m\u001b[0m\u001b[0m\n\u001b[0;32m--> 942\u001b[0;31m             \u001b[0;32mfor\u001b[0m \u001b[0mfeature\u001b[0m \u001b[0;32min\u001b[0m \u001b[0manalyze\u001b[0m\u001b[0;34m(\u001b[0m\u001b[0mdoc\u001b[0m\u001b[0;34m)\u001b[0m\u001b[0;34m:\u001b[0m\u001b[0;34m\u001b[0m\u001b[0m\n\u001b[0m\u001b[1;32m    943\u001b[0m                 \u001b[0;32mtry\u001b[0m\u001b[0;34m:\u001b[0m\u001b[0;34m\u001b[0m\u001b[0m\n\u001b[1;32m    944\u001b[0m                     \u001b[0mfeature_idx\u001b[0m \u001b[0;34m=\u001b[0m \u001b[0mvocabulary\u001b[0m\u001b[0;34m[\u001b[0m\u001b[0mfeature\u001b[0m\u001b[0;34m]\u001b[0m\u001b[0;34m\u001b[0m\u001b[0m\n",
      "\u001b[0;32m~/anaconda3/envs/dcuration/lib/python3.6/site-packages/sklearn/feature_extraction/text.py\u001b[0m in \u001b[0;36m<lambda>\u001b[0;34m(doc)\u001b[0m\n\u001b[1;32m    326\u001b[0m                                                tokenize)\n\u001b[1;32m    327\u001b[0m             return lambda doc: self._word_ngrams(\n\u001b[0;32m--> 328\u001b[0;31m                 tokenize(preprocess(self.decode(doc))), stop_words)\n\u001b[0m\u001b[1;32m    329\u001b[0m \u001b[0;34m\u001b[0m\u001b[0m\n\u001b[1;32m    330\u001b[0m         \u001b[0;32melse\u001b[0m\u001b[0;34m:\u001b[0m\u001b[0;34m\u001b[0m\u001b[0m\n",
      "\u001b[0;32m~/anaconda3/envs/dcuration/lib/python3.6/site-packages/sklearn/feature_extraction/text.py\u001b[0m in \u001b[0;36m<lambda>\u001b[0;34m(x)\u001b[0m\n\u001b[1;32m    254\u001b[0m \u001b[0;34m\u001b[0m\u001b[0m\n\u001b[1;32m    255\u001b[0m         \u001b[0;32mif\u001b[0m \u001b[0mself\u001b[0m\u001b[0;34m.\u001b[0m\u001b[0mlowercase\u001b[0m\u001b[0;34m:\u001b[0m\u001b[0;34m\u001b[0m\u001b[0m\n\u001b[0;32m--> 256\u001b[0;31m             \u001b[0;32mreturn\u001b[0m \u001b[0;32mlambda\u001b[0m \u001b[0mx\u001b[0m\u001b[0;34m:\u001b[0m \u001b[0mstrip_accents\u001b[0m\u001b[0;34m(\u001b[0m\u001b[0mx\u001b[0m\u001b[0;34m.\u001b[0m\u001b[0mlower\u001b[0m\u001b[0;34m(\u001b[0m\u001b[0;34m)\u001b[0m\u001b[0;34m)\u001b[0m\u001b[0;34m\u001b[0m\u001b[0m\n\u001b[0m\u001b[1;32m    257\u001b[0m         \u001b[0;32melse\u001b[0m\u001b[0;34m:\u001b[0m\u001b[0;34m\u001b[0m\u001b[0m\n\u001b[1;32m    258\u001b[0m             \u001b[0;32mreturn\u001b[0m \u001b[0mstrip_accents\u001b[0m\u001b[0;34m\u001b[0m\u001b[0m\n",
      "\u001b[0;31mAttributeError\u001b[0m: 'list' object has no attribute 'lower'"
     ]
    }
   ],
   "source": [
    "count_vectorizer = TfidfVectorizer(\n",
    "                        strip_accents='unicode',\n",
    "                        preprocessor=None,\n",
    "                        analyzer='word',\n",
    "                        ngram_range=(2, 2),\n",
    "                        min_df=10,\n",
    "                        use_idf=True, smooth_idf=True, \n",
    "                        max_features = 1000)\n",
    "\n",
    "bag_of_words = count_vectorizer.fit_transform(eng_reviews_v2_df['comments_token'])\n",
    "print(bag_of_words.shape)"
   ]
  },
  {
   "cell_type": "code",
   "execution_count": 123,
   "metadata": {
    "ExecuteTime": {
     "end_time": "2019-06-23T16:35:50.888991Z",
     "start_time": "2019-06-23T16:35:49.732617Z"
    }
   },
   "outputs": [],
   "source": [
    "import pickle\n",
    "with open('ams_tfidf_vectorizer.pkl', 'wb') as pklfile:\n",
    "    pickle.dump(count_vectorizer, file=pklfile)"
   ]
  },
  {
   "cell_type": "code",
   "execution_count": 113,
   "metadata": {
    "ExecuteTime": {
     "end_time": "2019-06-23T15:51:40.794343Z",
     "start_time": "2019-06-23T15:51:40.615948Z"
    }
   },
   "outputs": [
    {
     "name": "stdout",
     "output_type": "stream",
     "text": [
      "Number of reviews for listing#2818: (211,)\n",
      "['great host', 'perfect host', 'public transport', 'high recommend', 'place clean', 'get around', 'make sure', 'stay amsterdam', 'recommend stay', 'host place']\n"
     ]
    }
   ],
   "source": [
    "for listing_id, gdf in grouped_eng_reviews:\n",
    "    print(\"Number of reviews for listing#{}: {}\".format(listing_id, gdf['comments_token'].shape))\n",
    "    listing_words = count_vectorizer.transform(gdf['comments_token'])\n",
    "    feature_names = count_vectorizer.get_feature_names()\n",
    "    top_tokens = print_top_tokens(feature_names, listing_words)\n",
    "    print([token[0] for token in top_tokens])\n",
    "    break"
   ]
  },
  {
   "cell_type": "markdown",
   "metadata": {},
   "source": [
    "There we go! With using bigrams, we start to get some interesting insight into guests' experience at Listing#2818.\n",
    "1. The host was great and some might even say perfect :)\n",
    "2. Guests talked about public transport and accessibilty of listing to their points of interest\n",
    "3. The place was clean\n",
    "4. That most of them highly recommend the place."
   ]
  },
  {
   "cell_type": "code",
   "execution_count": 99,
   "metadata": {
    "ExecuteTime": {
     "end_time": "2019-06-23T13:52:10.199213Z",
     "start_time": "2019-06-23T13:52:10.189115Z"
    },
    "scrolled": true
   },
   "outputs": [
    {
     "data": {
      "text/plain": [
       "['Daniele is an amazing host! He provided everything that was needed to make our stay comfortable and easy! The rooms were clean and cozy; and he took the time to show us how to get around Amsterdam via public transportation or riding around on bicycles. You truly do feel like a local when staying with Daniele!!\\r\\n',\n",
       " \"Staying at Daniel's apartment was great! My boyfriend and I stayed here two nights and were very happy to do so. Daniel was a terrific host who made us feel at home. The room we stayed in was lovely and comfortable, and he provided us with a hair dryer, towels, tea and coffee, maps and guide books. He was a wealth of information in terms of when to go to certain museums, what was and wasn't worthwhile, and the best ways to get around using public transportation. He even allowed us to use his bikes free of charge! He was very accommodating and accepted our booking very last minute, and didn't mind that we were arriving late in the evening on a weeknight. The location of his apartment is also great--near both train and bus stops, in a nice, quiet neighborhood. I would absolutely recommend staying here! \",\n",
       " 'Daniel is a a very organized and professional host. A lot of information is at the hands of the guest from the very start. Tons of leaflets, magazines and print-outs about things to do in Amsterdam (plus bus routes and timetables) can be found in the room and in the hall of the apartment. The house is extremely clean. There are bus and tram stops nearby, which make it easy to get around the city. I would not hesitate to recommend Daniel to other people that want to stay in Amsterdam.',\n",
       " \"Daniel was a great host. He gave us very detailed directions to his place and upon our arrival he provided us with maps and places to visit in amsterdam. The room was very neat and tidy. We were also provided with clean towels. Daniel's place also has easy public transport to get around. Daniel was very friendly and helpful throughout our stay. Highly recommended.\",\n",
       " 'It was a very pleasant stay, Daniel is very nice and helpful, he provides all info a visitor may need. The location is very convenient too, close to bus, train station and very easy to get around. I loved my visit in Amsterdam, will definitely come back again!!',\n",
       " 'Daniel was a great host. He welcomed us into his home and gave us a plethora of information about the town and how to get around. He was very available for questions and incredibly nice. We were looking for a relaxing stay so we mostly kept to ourselves and he seemed to respect that as well but I got the idea that he would have been very sociable if that is the kind of stay you are interested in.',\n",
       " \"We had the most wonderful experience at Daniel's place in Amsterdam! Not only was the room comfortable, colourful, light, quiet, and equipped with everything we could possibly need - and Daniel's flat spotless and beautifully furnished and in a great location - but Daniel himself is the perfect host, spending the first hour of our arrival talking to us about Amsterdam, answering our many questions, showing us how to get around. We felt immediately comfortable and welcomed, and confident that, during our three day visit, if we had any questions, Daniel would be there to help us. Indeed, on our first day, he emailed to check we were okay! We can't recommend Daniel highly enough!\",\n",
       " 'Daniel is the perfect Host. Such a lovely guy.  So helpful and knowledgeable about the city and how to get to everywhere you want to enjoy. Very Central and so easy to get around. Great recommendations for food and drink.  He has a spotless home and the room is very comfortable with everything you need. Super host indeed!',\n",
       " 'Daniel is a wonderful host. He is very responsive and easy to talk to. The accommodation is out of the city center, which is both good and bad. A 15-minute tram ride will get you to the city center no problem, though. Daniel also makes it very easy to understand how to get around as well. It is clear Daniel has thought everything through when it comes to accommodations, and if you like a quieter, more residential neighborhood, I would suggest staying here. ',\n",
       " 'A great host, and helpful about how to get around as well.',\n",
       " \"Daniel is a great host and the place is incredibly clean and organised. Daniel can tell you the best ways to get around, there's quick buses to Amsterdam central all the time and a tram too. Great local restaurants and bars too. We had a fantastic time!\",\n",
       " 'Daniel is an amazing host, he gave us plenty of great tips about how to get around Amsterdam. His apartment is in amazing location, very easily accessible by tram or bus, 15min from the Centraal Station. \\nTo say that the apartment was super clean is an understatement, we have very high standards but would give extra stars for cleanliness if I could.']"
      ]
     },
     "execution_count": 99,
     "metadata": {},
     "output_type": "execute_result"
    }
   ],
   "source": [
    "listing_2818 = grouped_eng_reviews.get_group(2818)\n",
    "listing_2818[listing_2818['comments'].str.contains(\"get around\")]['comments'].tolist()"
   ]
  },
  {
   "cell_type": "markdown",
   "metadata": {
    "ExecuteTime": {
     "end_time": "2019-06-23T13:54:39.663366Z",
     "start_time": "2019-06-23T13:54:39.660055Z"
    }
   },
   "source": [
    "#### Apply on reviews of last 6 months"
   ]
  },
  {
   "cell_type": "markdown",
   "metadata": {},
   "source": [
    "Using bigram has given us much better insight to guest reviews. But reviews used earlier were based on all guests from the first guest(s) to the most recent guest(s). While factors like location would not have changed during the lifetime of listing, other factors like communication, cleanliness, check-in progress, amenities and decor of the listing could have changed - for the better or worse?! I would like to think mostly for the better where hosts have become more experience with each review given by their guest.\n",
    "\n",
    "Therefore, lets try to extract only key terms used in reviews submitted in the last 6 months."
   ]
  },
  {
   "cell_type": "code",
   "execution_count": 108,
   "metadata": {
    "ExecuteTime": {
     "end_time": "2019-06-23T13:58:01.428424Z",
     "start_time": "2019-06-23T13:58:01.419377Z"
    }
   },
   "outputs": [
    {
     "data": {
      "text/plain": [
       "datetime.date(2019, 5, 24)"
      ]
     },
     "execution_count": 108,
     "metadata": {},
     "output_type": "execute_result"
    }
   ],
   "source": [
    "import datetime\n",
    "today = datetime.date.today()"
   ]
  },
  {
   "cell_type": "code",
   "execution_count": 114,
   "metadata": {
    "ExecuteTime": {
     "end_time": "2019-06-23T15:51:52.107824Z",
     "start_time": "2019-06-23T15:51:50.792528Z"
    },
    "scrolled": true
   },
   "outputs": [
    {
     "name": "stdout",
     "output_type": "stream",
     "text": [
      "Number of reviews for listing#2818: (7,)\n",
      "['quiet neighborhood', 'high recommend', 'room great', 'host made', 'great room', 'amsterdam high', 'love amsterdam', 'feel welcom', 'first day', 'mani thank', 'great recommend', 'place everyth', 'went way', 'super help', 'local tip', 'made feel', 'gave great', 'good time', 'minut tram', 'minut citi']\n"
     ]
    },
    {
     "name": "stderr",
     "output_type": "stream",
     "text": [
      "/Users/fionachow/anaconda3/envs/dcuration/lib/python3.6/site-packages/ipykernel_launcher.py:4: SettingWithCopyWarning: \n",
      "A value is trying to be set on a copy of a slice from a DataFrame.\n",
      "Try using .loc[row_indexer,col_indexer] = value instead\n",
      "\n",
      "See the caveats in the documentation: http://pandas.pydata.org/pandas-docs/stable/indexing.html#indexing-view-versus-copy\n",
      "  after removing the cwd from sys.path.\n",
      "/Users/fionachow/anaconda3/envs/dcuration/lib/python3.6/site-packages/ipykernel_launcher.py:5: FutureWarning: Comparing Series of datetimes with 'datetime.date'.  Currently, the\n",
      "'datetime.date' is coerced to a datetime. In the future pandas will\n",
      "not coerce, and a TypeError will be raised. To retain the current\n",
      "behavior, convert the 'datetime.date' to a datetime with\n",
      "'pd.Timestamp'.\n",
      "  \"\"\"\n"
     ]
    }
   ],
   "source": [
    "duration = 30*6\n",
    "\n",
    "for listing_id, gdf in grouped_eng_reviews:\n",
    "    gdf['formatted_date'] = gdf['date'].apply(lambda x: datetime.datetime.strptime(x, \"%Y-%m-%d\"))\n",
    "    most_recent = gdf[gdf['formatted_date'] > today - datetime.timedelta(days=duration)]\n",
    "    print(\"Number of reviews for listing#{}: {}\".format(listing_id, most_recent['comments_token'].shape))\n",
    "    listing_words = count_vectorizer.transform(most_recent['comments_token'])\n",
    "    feature_names = count_vectorizer.get_feature_names()\n",
    "    top_tokens = print_top_tokens(feature_names, listing_words, 20)\n",
    "    print([token[0] for token in top_tokens])\n",
    "    break"
   ]
  },
  {
   "cell_type": "markdown",
   "metadata": {},
   "source": [
    "Key terms between the last 6 months VS all time has definitely changed slightly.\n",
    "\n",
    "The overall opinion are:\n",
    "1. the host is great\n",
    "2. listing at a good location\n",
    "3. place is clean.\n",
    "4. they would recommend the listing\n",
    "\n",
    "In the 6 months, guests have commented on:\n",
    "1. the host is great, welcoming, super helpful\n",
    "2. listing at a quiet neighborhood\n",
    "3. place is great\n",
    "4. they had a good time and would recommend the listing.\n",
    "    "
   ]
  },
  {
   "cell_type": "markdown",
   "metadata": {},
   "source": [
    "#### Lets see if we agree with the key terms found"
   ]
  },
  {
   "cell_type": "code",
   "execution_count": 132,
   "metadata": {
    "ExecuteTime": {
     "end_time": "2019-06-23T18:41:47.126210Z",
     "start_time": "2019-06-23T18:41:45.758749Z"
    }
   },
   "outputs": [
    {
     "name": "stderr",
     "output_type": "stream",
     "text": [
      "/Users/fionachow/anaconda3/envs/dcuration/lib/python3.6/site-packages/ipykernel_launcher.py:4: SettingWithCopyWarning: \n",
      "A value is trying to be set on a copy of a slice from a DataFrame.\n",
      "Try using .loc[row_indexer,col_indexer] = value instead\n",
      "\n",
      "See the caveats in the documentation: http://pandas.pydata.org/pandas-docs/stable/indexing.html#indexing-view-versus-copy\n",
      "  after removing the cwd from sys.path.\n",
      "/Users/fionachow/anaconda3/envs/dcuration/lib/python3.6/site-packages/ipykernel_launcher.py:5: FutureWarning: Comparing Series of datetimes with 'datetime.date'.  Currently, the\n",
      "'datetime.date' is coerced to a datetime. In the future pandas will\n",
      "not coerce, and a TypeError will be raised. To retain the current\n",
      "behavior, convert the 'datetime.date' to a datetime with\n",
      "'pd.Timestamp'.\n",
      "  \"\"\"\n"
     ]
    }
   ],
   "source": [
    "duration = 30*6\n",
    "listing_2818 = grouped_eng_reviews.get_group(2818)\n",
    "listing_2818['formatted_date'] = listing_2818['date'].apply(lambda x: datetime.datetime.strptime(x, \"%Y-%m-%d\"))\n",
    "most_recent_2818 = listing_2818[listing_2818['formatted_date'] > today - datetime.timedelta(days=duration)]"
   ]
  },
  {
   "cell_type": "code",
   "execution_count": 135,
   "metadata": {
    "ExecuteTime": {
     "end_time": "2019-06-23T18:42:17.689587Z",
     "start_time": "2019-06-23T18:42:17.682177Z"
    }
   },
   "outputs": [
    {
     "data": {
      "text/plain": [
       "['This is an outstanding place to stay. Everything is spotless but very comfortable. It’s in a quiet neighborhood outside of the bustling downtown, but a close 15 minutes by tram. Daniel went out of his way to be helpful with directions and things to do. He even sent me a note on our first day asking if we were having a good time. I highly recommend this AirBnB and would definitely stay here again.',\n",
       " 'Daniel’s place was great! The room was close to downtown and very clean. Daniel is kind and accommodating and gave us great recommendations and tips for our trip to Amsterdam. I highly recommend this location!',\n",
       " 'Daniel was such a great host!  He made me feel very welcome. I found all his directions and local knowledge invaluable. He was very easy to contact before and during my stay and nothing was too much trouble :). The room was great! comfortable and convenient. Great location!',\n",
       " \"Daniel's living quarters is very clean and cosy! He is a thoughtful host who make sure guests are comfortable during their stay. We enjoyed our stay with Daniel, the apartment is located in a quiet neighbourhood with the centraal around 20mins away via bus/tram, highly recommend!\",\n",
       " 'Really love the style of Daniel’s place and everything is artistic!! He gave us many local tips and that’s super helpful!! Many thanks Daniel and love Amsterdam!',\n",
       " 'Daniel’s accommodations are good, located outside of the city in a quiet neighborhood. Public transportation is 5 minutes from the apartment, and it runs every 15 minutes into the city (bus 22 or train 14). The bedroom has two twin beds, with a small fridge and a closet. There are quite a few Amsterdam books in the bedroom as well. \\nOverall was a good stay and we recommend this location to others that want to enjoy what Amsterdam has to offer.',\n",
       " 'Daniel is an amazing host, he gave us plenty of great tips about how to get around Amsterdam. His apartment is in amazing location, very easily accessible by tram or bus, 15min from the Centraal Station. \\nTo say that the apartment was super clean is an understatement, we have very high standards but would give extra stars for cleanliness if I could.']"
      ]
     },
     "execution_count": 135,
     "metadata": {},
     "output_type": "execute_result"
    }
   ],
   "source": [
    "most_recent_2818['comments'].tolist()"
   ]
  },
  {
   "cell_type": "markdown",
   "metadata": {
    "ExecuteTime": {
     "end_time": "2019-06-23T18:41:50.904754Z",
     "start_time": "2019-06-23T18:41:50.898119Z"
    }
   },
   "source": [
    "The top 20 key terms have definitely addressed reviews received in the last 6 months. The only point that wasn't mentioned was about the location - convenient/accessible via public transportation. That's understandable given that different guests have described it slightly different.\n",
    "\n",
    "1) a close 15 minutes by tram\n",
    "\n",
    "2) with the centraal around 20mins away via bus/tram\n",
    "\n",
    "3) Public transportation is 5 minutes from the apartment\n",
    "\n",
    "4) very easily accessible by tram or bus"
   ]
  },
  {
   "cell_type": "code",
   "execution_count": 80,
   "metadata": {
    "ExecuteTime": {
     "end_time": "2019-06-23T11:11:46.611752Z",
     "start_time": "2019-06-23T11:11:46.605933Z"
    }
   },
   "outputs": [],
   "source": [
    "import operator\n",
    "\n",
    "def print_top_tokens(feature_names, word_counts, n_top=10):\n",
    "    tdidf_counts = zip(feature_names, word_counts.sum(axis=0).tolist()[0])\n",
    "    sorted_x = sorted(dict(tdidf_counts).items(), key = operator.itemgetter(1), reverse = True)\n",
    "\n",
    "    if n_top:\n",
    "        return sorted_x[: n_top]\n",
    "    else:\n",
    "        return sorted_x"
   ]
  }
 ],
 "metadata": {
  "kernelspec": {
   "display_name": "Python 3",
   "language": "python",
   "name": "python3"
  },
  "language_info": {
   "codemirror_mode": {
    "name": "ipython",
    "version": 3
   },
   "file_extension": ".py",
   "mimetype": "text/x-python",
   "name": "python",
   "nbconvert_exporter": "python",
   "pygments_lexer": "ipython3",
   "version": "3.6.6"
  },
  "toc": {
   "base_numbering": 1,
   "nav_menu": {},
   "number_sections": true,
   "sideBar": true,
   "skip_h1_title": false,
   "title_cell": "Table of Contents",
   "title_sidebar": "Contents",
   "toc_cell": false,
   "toc_position": {},
   "toc_section_display": true,
   "toc_window_display": true
  }
 },
 "nbformat": 4,
 "nbformat_minor": 2
}
