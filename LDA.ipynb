{
 "cells": [
  {
   "cell_type": "code",
   "execution_count": 1,
   "metadata": {
    "ExecuteTime": {
     "end_time": "2019-06-23T16:36:14.482955Z",
     "start_time": "2019-06-23T16:36:12.926185Z"
    }
   },
   "outputs": [],
   "source": [
    "import pandas as pd\n",
    "import numpy as np\n",
    "import os\n",
    "import seaborn as sns\n",
    "import matplotlib\n",
    "import matplotlib.pyplot as plt\n",
    "%matplotlib inline"
   ]
  },
  {
   "cell_type": "code",
   "execution_count": 11,
   "metadata": {
    "ExecuteTime": {
     "end_time": "2019-06-23T16:46:06.405671Z",
     "start_time": "2019-06-23T16:45:38.162963Z"
    }
   },
   "outputs": [
    {
     "data": {
      "text/html": [
       "<div>\n",
       "<style scoped>\n",
       "    .dataframe tbody tr th:only-of-type {\n",
       "        vertical-align: middle;\n",
       "    }\n",
       "\n",
       "    .dataframe tbody tr th {\n",
       "        vertical-align: top;\n",
       "    }\n",
       "\n",
       "    .dataframe thead th {\n",
       "        text-align: right;\n",
       "    }\n",
       "</style>\n",
       "<table border=\"1\" class=\"dataframe\">\n",
       "  <thead>\n",
       "    <tr style=\"text-align: right;\">\n",
       "      <th></th>\n",
       "      <th>comments</th>\n",
       "      <th>comments_cleaned</th>\n",
       "      <th>comments_l</th>\n",
       "      <th>comments_token</th>\n",
       "      <th>comments_token_str</th>\n",
       "      <th>date</th>\n",
       "      <th>id</th>\n",
       "      <th>index</th>\n",
       "      <th>language</th>\n",
       "      <th>listing_id</th>\n",
       "      <th>probability</th>\n",
       "      <th>review_length</th>\n",
       "      <th>reviewer_id</th>\n",
       "      <th>reviewer_name</th>\n",
       "      <th>sentence_length</th>\n",
       "    </tr>\n",
       "  </thead>\n",
       "  <tbody>\n",
       "    <tr>\n",
       "      <th>0</th>\n",
       "      <td>Daniel is really cool. The place was nice and ...</td>\n",
       "      <td>daniel really cool place nice clean quiet neig...</td>\n",
       "      <td>daniel is really cool. the place was nice and ...</td>\n",
       "      <td>[daniel, realli, cool, place, nice, clean, qui...</td>\n",
       "      <td>daniel realli cool place nice clean quiet neig...</td>\n",
       "      <td>2009-03-30</td>\n",
       "      <td>1191</td>\n",
       "      <td>0</td>\n",
       "      <td>en</td>\n",
       "      <td>2818</td>\n",
       "      <td>0.992321</td>\n",
       "      <td>250</td>\n",
       "      <td>10952</td>\n",
       "      <td>Lam</td>\n",
       "      <td>46</td>\n",
       "    </tr>\n",
       "    <tr>\n",
       "      <th>1</th>\n",
       "      <td>Daniel is the most amazing host! His place is ...</td>\n",
       "      <td>daniel amazing host place extremely clean prov...</td>\n",
       "      <td>daniel is the most amazing host! his place is ...</td>\n",
       "      <td>[daniel, amaz, host, place, extrem, clean, pro...</td>\n",
       "      <td>daniel amaz host place extrem clean provid eve...</td>\n",
       "      <td>2009-04-24</td>\n",
       "      <td>1771</td>\n",
       "      <td>1</td>\n",
       "      <td>en</td>\n",
       "      <td>2818</td>\n",
       "      <td>0.991255</td>\n",
       "      <td>334</td>\n",
       "      <td>12798</td>\n",
       "      <td>Alice</td>\n",
       "      <td>58</td>\n",
       "    </tr>\n",
       "    <tr>\n",
       "      <th>2</th>\n",
       "      <td>We had such a great time in Amsterdam. Daniel ...</td>\n",
       "      <td>great time amsterdam daniel excellent host fri...</td>\n",
       "      <td>we had such a great time in amsterdam. daniel ...</td>\n",
       "      <td>[great, time, amsterdam, daniel, excel, host, ...</td>\n",
       "      <td>great time amsterdam daniel excel host friend ...</td>\n",
       "      <td>2009-05-03</td>\n",
       "      <td>1989</td>\n",
       "      <td>2</td>\n",
       "      <td>en</td>\n",
       "      <td>2818</td>\n",
       "      <td>0.995635</td>\n",
       "      <td>400</td>\n",
       "      <td>11869</td>\n",
       "      <td>Natalja</td>\n",
       "      <td>66</td>\n",
       "    </tr>\n",
       "    <tr>\n",
       "      <th>3</th>\n",
       "      <td>Very professional operation. Room is very clea...</td>\n",
       "      <td>professional operation room clean comfortable ...</td>\n",
       "      <td>very professional operation. room is very clea...</td>\n",
       "      <td>[profession, oper, room, clean, comfort, locat...</td>\n",
       "      <td>profession oper room clean comfort locat close...</td>\n",
       "      <td>2009-05-18</td>\n",
       "      <td>2797</td>\n",
       "      <td>3</td>\n",
       "      <td>en</td>\n",
       "      <td>2818</td>\n",
       "      <td>0.990710</td>\n",
       "      <td>203</td>\n",
       "      <td>14064</td>\n",
       "      <td>Enrique</td>\n",
       "      <td>38</td>\n",
       "    </tr>\n",
       "    <tr>\n",
       "      <th>4</th>\n",
       "      <td>Daniel is highly recommended.  He provided all...</td>\n",
       "      <td>daniel highly recommended provided necessities...</td>\n",
       "      <td>daniel is highly recommended.  he provided all...</td>\n",
       "      <td>[daniel, high, recommend, provid, necess, actu...</td>\n",
       "      <td>daniel high recommend provid necess actual wen...</td>\n",
       "      <td>2009-05-25</td>\n",
       "      <td>3151</td>\n",
       "      <td>4</td>\n",
       "      <td>en</td>\n",
       "      <td>2818</td>\n",
       "      <td>0.967161</td>\n",
       "      <td>277</td>\n",
       "      <td>17977</td>\n",
       "      <td>Sherwin</td>\n",
       "      <td>52</td>\n",
       "    </tr>\n",
       "  </tbody>\n",
       "</table>\n",
       "</div>"
      ],
      "text/plain": [
       "                                            comments  \\\n",
       "0  Daniel is really cool. The place was nice and ...   \n",
       "1  Daniel is the most amazing host! His place is ...   \n",
       "2  We had such a great time in Amsterdam. Daniel ...   \n",
       "3  Very professional operation. Room is very clea...   \n",
       "4  Daniel is highly recommended.  He provided all...   \n",
       "\n",
       "                                    comments_cleaned  \\\n",
       "0  daniel really cool place nice clean quiet neig...   \n",
       "1  daniel amazing host place extremely clean prov...   \n",
       "2  great time amsterdam daniel excellent host fri...   \n",
       "3  professional operation room clean comfortable ...   \n",
       "4  daniel highly recommended provided necessities...   \n",
       "\n",
       "                                          comments_l  \\\n",
       "0  daniel is really cool. the place was nice and ...   \n",
       "1  daniel is the most amazing host! his place is ...   \n",
       "2  we had such a great time in amsterdam. daniel ...   \n",
       "3  very professional operation. room is very clea...   \n",
       "4  daniel is highly recommended.  he provided all...   \n",
       "\n",
       "                                      comments_token  \\\n",
       "0  [daniel, realli, cool, place, nice, clean, qui...   \n",
       "1  [daniel, amaz, host, place, extrem, clean, pro...   \n",
       "2  [great, time, amsterdam, daniel, excel, host, ...   \n",
       "3  [profession, oper, room, clean, comfort, locat...   \n",
       "4  [daniel, high, recommend, provid, necess, actu...   \n",
       "\n",
       "                                  comments_token_str       date    id  index  \\\n",
       "0  daniel realli cool place nice clean quiet neig... 2009-03-30  1191      0   \n",
       "1  daniel amaz host place extrem clean provid eve... 2009-04-24  1771      1   \n",
       "2  great time amsterdam daniel excel host friend ... 2009-05-03  1989      2   \n",
       "3  profession oper room clean comfort locat close... 2009-05-18  2797      3   \n",
       "4  daniel high recommend provid necess actual wen... 2009-05-25  3151      4   \n",
       "\n",
       "  language  listing_id  probability  review_length  reviewer_id reviewer_name  \\\n",
       "0       en        2818     0.992321            250        10952           Lam   \n",
       "1       en        2818     0.991255            334        12798         Alice   \n",
       "2       en        2818     0.995635            400        11869       Natalja   \n",
       "3       en        2818     0.990710            203        14064       Enrique   \n",
       "4       en        2818     0.967161            277        17977       Sherwin   \n",
       "\n",
       "   sentence_length  \n",
       "0               46  \n",
       "1               58  \n",
       "2               66  \n",
       "3               38  \n",
       "4               52  "
      ]
     },
     "execution_count": 11,
     "metadata": {},
     "output_type": "execute_result"
    }
   ],
   "source": [
    "english_reviews_df = pd.read_json('preprocessed_english_reviews.json')\n",
    "english_reviews_df.head()"
   ]
  },
  {
   "cell_type": "code",
   "execution_count": 4,
   "metadata": {
    "ExecuteTime": {
     "end_time": "2019-06-23T16:39:27.365042Z",
     "start_time": "2019-06-23T16:39:26.749941Z"
    }
   },
   "outputs": [],
   "source": [
    "import pickle\n",
    "\n",
    "def dummy_fun(token):\n",
    "    return token\n",
    "\n",
    "with open(\"ams_tfidf_vectorizer.pkl\", \"rb\") as pklfile:\n",
    "    count_vectorizer = pickle.load(pklfile)"
   ]
  },
  {
   "cell_type": "code",
   "execution_count": 12,
   "metadata": {
    "ExecuteTime": {
     "end_time": "2019-06-23T16:46:21.021968Z",
     "start_time": "2019-06-23T16:46:20.041687Z"
    }
   },
   "outputs": [
    {
     "data": {
      "text/plain": [
       "((362300, 15), (7004, 15))"
      ]
     },
     "execution_count": 12,
     "metadata": {},
     "output_type": "execute_result"
    }
   ],
   "source": [
    "automated_message = english_reviews_df[english_reviews_df.comments.str.contains(\"The host canceled this reservation\")]\n",
    "english_reviews_df.shape, automated_message.shape"
   ]
  },
  {
   "cell_type": "code",
   "execution_count": 13,
   "metadata": {
    "ExecuteTime": {
     "end_time": "2019-06-23T16:46:24.086064Z",
     "start_time": "2019-06-23T16:46:21.708116Z"
    }
   },
   "outputs": [],
   "source": [
    "removed_automated_message = english_reviews_df[~english_reviews_df.comments.str.contains(\"The host canceled this reservation\")]"
   ]
  },
  {
   "cell_type": "code",
   "execution_count": 8,
   "metadata": {
    "ExecuteTime": {
     "end_time": "2019-06-23T16:41:14.791657Z",
     "start_time": "2019-06-23T16:41:14.784458Z"
    }
   },
   "outputs": [
    {
     "data": {
      "text/plain": [
       "['abl walk',\n",
       " 'absolut amaz',\n",
       " 'absolut love',\n",
       " 'absolut perfect',\n",
       " 'absolut recommend']"
      ]
     },
     "execution_count": 8,
     "metadata": {},
     "output_type": "execute_result"
    }
   ],
   "source": [
    "count_vectorizer.get_feature_names()[:5]"
   ]
  },
  {
   "cell_type": "code",
   "execution_count": 14,
   "metadata": {
    "ExecuteTime": {
     "end_time": "2019-06-23T16:46:49.015926Z",
     "start_time": "2019-06-23T16:46:35.157914Z"
    }
   },
   "outputs": [],
   "source": [
    "bag_of_words = count_vectorizer.transform(removed_automated_message['comments_token_str'])"
   ]
  },
  {
   "cell_type": "code",
   "execution_count": 15,
   "metadata": {
    "ExecuteTime": {
     "end_time": "2019-06-23T16:46:57.695486Z",
     "start_time": "2019-06-23T16:46:49.019337Z"
    }
   },
   "outputs": [
    {
     "name": "stdout",
     "output_type": "stream",
     "text": [
      "Sparsicity:  0.6615934319553274 %\n"
     ]
    }
   ],
   "source": [
    "dense_bow = bag_of_words.todense()\n",
    "# Compute Sparsicity = Percentage of Non-Zero cells\n",
    "print(\"Sparsicity: \", ((dense_bow > 0).sum()/dense_bow.size)*100, \"%\")"
   ]
  },
  {
   "cell_type": "code",
   "execution_count": 16,
   "metadata": {
    "ExecuteTime": {
     "end_time": "2019-06-23T16:57:32.685183Z",
     "start_time": "2019-06-23T16:47:06.426840Z"
    }
   },
   "outputs": [
    {
     "data": {
      "text/plain": [
       "LatentDirichletAllocation(batch_size=128, doc_topic_prior=None,\n",
       "             evaluate_every=-1, learning_decay=0.7,\n",
       "             learning_method='online', learning_offset=10.0,\n",
       "             max_doc_update_iter=100, max_iter=10, mean_change_tol=0.001,\n",
       "             n_components=6, n_jobs=-1, n_topics=None, perp_tol=0.1,\n",
       "             random_state=19, topic_word_prior=None,\n",
       "             total_samples=1000000.0, verbose=0)"
      ]
     },
     "execution_count": 16,
     "metadata": {},
     "output_type": "execute_result"
    }
   ],
   "source": [
    "from sklearn.decomposition import LatentDirichletAllocation as LDA\n",
    "\n",
    "# Tweak the two parameters below\n",
    "number_topics = 6\n",
    "number_words = 10\n",
    "\n",
    "# Create and fit the LDA model\n",
    "lda = LDA(n_components=number_topics, random_state=19, n_jobs=-1, learning_method='online')\n",
    "lda.fit(bag_of_words)"
   ]
  },
  {
   "cell_type": "code",
   "execution_count": 19,
   "metadata": {
    "ExecuteTime": {
     "end_time": "2019-06-23T16:59:20.646340Z",
     "start_time": "2019-06-23T16:59:20.631685Z"
    }
   },
   "outputs": [
    {
     "name": "stdout",
     "output_type": "stream",
     "text": [
      "\n",
      "Topic #0:\n",
      "great locat locat great apart great great host place great high recommend host friend place nice easi walk wonder host\n",
      "\n",
      "Topic #1:\n",
      "good locat walk distanc minut walk apart clean citi center everyth need central station citi centr within walk comfort bed\n",
      "\n",
      "Topic #2:\n",
      "great place nice place place stay realli nice locat close well locat nice apart friend host recommend anyon close tram\n",
      "\n",
      "Topic #3:\n",
      "would definit enjoy stay realli enjoy definit recommend apart nice love stay definit stay would recommend public transport host great\n",
      "\n",
      "Topic #4:\n",
      "come back nice stay apart perfect felt like locat near nice quiet love host like home walk away amaz place\n",
      "\n",
      "Topic #5:\n",
      "high recommend love place place perfect everyth perfect great time nice host close citi citi center would high realli good\n"
     ]
    }
   ],
   "source": [
    "print_topics(lda, count_vectorizer, number_words)"
   ]
  },
  {
   "cell_type": "code",
   "execution_count": 17,
   "metadata": {
    "ExecuteTime": {
     "end_time": "2019-06-23T16:59:20.616090Z",
     "start_time": "2019-06-23T16:57:32.693004Z"
    }
   },
   "outputs": [
    {
     "name": "stdout",
     "output_type": "stream",
     "text": [
      "Log Likelihood:  -6302786.0884581795\n",
      "Perplexity:  1764.2199118461087\n"
     ]
    }
   ],
   "source": [
    "# Log Likelyhood: Higher the better\n",
    "print(\"Log Likelihood: \", lda.score(bag_of_words))\n",
    "\n",
    "# Perplexity: Lower the better. Perplexity = exp(-1. * log-likelihood per word)\n",
    "print(\"Perplexity: \", lda.perplexity(bag_of_words))"
   ]
  },
  {
   "cell_type": "code",
   "execution_count": 18,
   "metadata": {
    "ExecuteTime": {
     "end_time": "2019-06-23T16:59:20.627009Z",
     "start_time": "2019-06-23T16:59:20.619034Z"
    }
   },
   "outputs": [],
   "source": [
    "# Helper function\n",
    "def print_topics(model, count_vectorizer, n_top_words):\n",
    "    words = count_vectorizer.get_feature_names()\n",
    "    for topic_idx, topic in enumerate(model.components_):\n",
    "        print(\"\\nTopic #%d:\" % topic_idx)\n",
    "        print(\" \".join([words[i]\n",
    "                        for i in topic.argsort()[:-n_top_words - 1:-1]]))"
   ]
  }
 ],
 "metadata": {
  "kernelspec": {
   "display_name": "Python 3",
   "language": "python",
   "name": "python3"
  },
  "language_info": {
   "codemirror_mode": {
    "name": "ipython",
    "version": 3
   },
   "file_extension": ".py",
   "mimetype": "text/x-python",
   "name": "python",
   "nbconvert_exporter": "python",
   "pygments_lexer": "ipython3",
   "version": "3.6.6"
  },
  "toc": {
   "base_numbering": 1,
   "nav_menu": {},
   "number_sections": true,
   "sideBar": true,
   "skip_h1_title": false,
   "title_cell": "Table of Contents",
   "title_sidebar": "Contents",
   "toc_cell": false,
   "toc_position": {},
   "toc_section_display": true,
   "toc_window_display": false
  }
 },
 "nbformat": 4,
 "nbformat_minor": 2
}
