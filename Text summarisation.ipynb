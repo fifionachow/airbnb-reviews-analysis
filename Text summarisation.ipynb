{
 "cells": [
  {
   "cell_type": "code",
   "execution_count": 1,
   "metadata": {
    "ExecuteTime": {
     "end_time": "2019-07-01T19:19:39.937860Z",
     "start_time": "2019-07-01T19:19:37.812133Z"
    }
   },
   "outputs": [],
   "source": [
    "import os\n",
    "import pandas as pd\n",
    "import numpy as np\n",
    "\n",
    "from nltk.tokenize import sent_tokenize"
   ]
  },
  {
   "cell_type": "markdown",
   "metadata": {},
   "source": [
    "# Read and Prepare DataFrame"
   ]
  },
  {
   "cell_type": "code",
   "execution_count": 2,
   "metadata": {
    "ExecuteTime": {
     "end_time": "2019-06-29T08:39:24.672489Z",
     "start_time": "2019-06-29T08:39:08.620781Z"
    }
   },
   "outputs": [
    {
     "data": {
      "text/html": [
       "<div>\n",
       "<style scoped>\n",
       "    .dataframe tbody tr th:only-of-type {\n",
       "        vertical-align: middle;\n",
       "    }\n",
       "\n",
       "    .dataframe tbody tr th {\n",
       "        vertical-align: top;\n",
       "    }\n",
       "\n",
       "    .dataframe thead th {\n",
       "        text-align: right;\n",
       "    }\n",
       "</style>\n",
       "<table border=\"1\" class=\"dataframe\">\n",
       "  <thead>\n",
       "    <tr style=\"text-align: right;\">\n",
       "      <th></th>\n",
       "      <th>comments</th>\n",
       "      <th>comments_cleaned</th>\n",
       "      <th>comments_l</th>\n",
       "      <th>comments_token</th>\n",
       "      <th>comments_token_str</th>\n",
       "      <th>date</th>\n",
       "      <th>id</th>\n",
       "      <th>index</th>\n",
       "      <th>language</th>\n",
       "      <th>listing_id</th>\n",
       "      <th>probability</th>\n",
       "      <th>review_length</th>\n",
       "      <th>reviewer_id</th>\n",
       "      <th>reviewer_name</th>\n",
       "      <th>sentence_length</th>\n",
       "    </tr>\n",
       "  </thead>\n",
       "  <tbody>\n",
       "    <tr>\n",
       "      <th>362299</th>\n",
       "      <td>The host canceled this reservation 4 days befo...</td>\n",
       "      <td>host canceled reservation days arrival automat...</td>\n",
       "      <td>the host canceled this reservation 4 days befo...</td>\n",
       "      <td>[host, cancel, reserv, day, arriv, autom, post]</td>\n",
       "      <td>host cancel reserv day arriv autom post</td>\n",
       "      <td>2019-05-04</td>\n",
       "      <td>447965634</td>\n",
       "      <td>452636</td>\n",
       "      <td>en</td>\n",
       "      <td>34384353</td>\n",
       "      <td>0.958796</td>\n",
       "      <td>87</td>\n",
       "      <td>49082420</td>\n",
       "      <td>Maxime</td>\n",
       "      <td>14</td>\n",
       "    </tr>\n",
       "  </tbody>\n",
       "</table>\n",
       "</div>"
      ],
      "text/plain": [
       "                                                 comments  \\\n",
       "362299  The host canceled this reservation 4 days befo...   \n",
       "\n",
       "                                         comments_cleaned  \\\n",
       "362299  host canceled reservation days arrival automat...   \n",
       "\n",
       "                                               comments_l  \\\n",
       "362299  the host canceled this reservation 4 days befo...   \n",
       "\n",
       "                                         comments_token  \\\n",
       "362299  [host, cancel, reserv, day, arriv, autom, post]   \n",
       "\n",
       "                             comments_token_str       date         id   index  \\\n",
       "362299  host cancel reserv day arriv autom post 2019-05-04  447965634  452636   \n",
       "\n",
       "       language  listing_id  probability  review_length  reviewer_id  \\\n",
       "362299       en    34384353     0.958796             87     49082420   \n",
       "\n",
       "       reviewer_name  sentence_length  \n",
       "362299        Maxime               14  "
      ]
     },
     "execution_count": 2,
     "metadata": {},
     "output_type": "execute_result"
    }
   ],
   "source": [
    "eng_reviews_df = pd.read_json(\"preprocessed_english_reviews.json\")\n",
    "eng_reviews_df.tail(1)"
   ]
  },
  {
   "cell_type": "markdown",
   "metadata": {
    "ExecuteTime": {
     "end_time": "2019-06-26T05:26:45.018204Z",
     "start_time": "2019-06-26T05:26:45.011940Z"
    }
   },
   "source": [
    "## Remove all Airbnb automated postings for host cancellations\n",
    "\n",
    "When a host cancels a reservation, Airbnb automatically posts on host's page as a 'penalty'\n",
    "These messages should be removed as they are not actual reviews written by guests, do not reflect on their experience hence would cloud text summarisations produced."
   ]
  },
  {
   "cell_type": "code",
   "execution_count": 3,
   "metadata": {
    "ExecuteTime": {
     "end_time": "2019-06-29T08:39:25.375360Z",
     "start_time": "2019-06-29T08:39:24.683351Z"
    }
   },
   "outputs": [],
   "source": [
    "eng_reviews_df = eng_reviews_df[~eng_reviews_df.comments.str.contains(\"The host canceled this reservation\")]"
   ]
  },
  {
   "cell_type": "markdown",
   "metadata": {},
   "source": [
    "## Tokenise comments into sentences\n",
    "\n",
    "Textrank and Extractive method both analyse each sentence in a comment seperately, give each weights to determine their importance in the entire comment."
   ]
  },
  {
   "cell_type": "code",
   "execution_count": 4,
   "metadata": {
    "ExecuteTime": {
     "end_time": "2019-06-29T08:39:25.414860Z",
     "start_time": "2019-06-29T08:39:25.393139Z"
    }
   },
   "outputs": [
    {
     "data": {
      "text/plain": [
       "['Hello!', 'Hello world.', 'Hello worrlddd?']"
      ]
     },
     "execution_count": 4,
     "metadata": {},
     "output_type": "execute_result"
    }
   ],
   "source": [
    "example = \"Hello! Hello world. Hello worrlddd?\"\n",
    "sent_tokenize(example)"
   ]
  },
  {
   "cell_type": "code",
   "execution_count": 5,
   "metadata": {
    "ExecuteTime": {
     "end_time": "2019-06-29T08:40:29.441091Z",
     "start_time": "2019-06-29T08:39:25.421323Z"
    }
   },
   "outputs": [],
   "source": [
    "eng_reviews_df['sentences'] = eng_reviews_df['comments'].apply(lambda x: sent_tokenize(x))"
   ]
  },
  {
   "cell_type": "markdown",
   "metadata": {},
   "source": [
    "## Clean sentences"
   ]
  },
  {
   "cell_type": "code",
   "execution_count": 6,
   "metadata": {
    "ExecuteTime": {
     "end_time": "2019-06-29T08:40:29.464686Z",
     "start_time": "2019-06-29T08:40:29.444255Z"
    }
   },
   "outputs": [],
   "source": [
    "from nltk.corpus import stopwords\n",
    "english_stop_words = stopwords.words('english')\n",
    "\n",
    "from datajanitor.text import create_ngram, remove_stopword, symbols_replaced, decontracted, remove_html_tags, split_words_and_punctuation, apply_text_normalisation\n",
    "from utils import keep_token_pattern, chain\n",
    "\n",
    "operations = [{\"function\": symbols_replaced},\n",
    "              {\"function\": decontracted},\n",
    "              {\"function\": remove_html_tags},\n",
    "              {\"function\": split_words_and_punctuation},\n",
    "              {\"function\": remove_stopword, \"stopword_list\": english_stop_words},\n",
    "              {\"function\": keep_token_pattern, \"pattern\": '[a-zA-Z]{3,}'}\n",
    "             ]"
   ]
  },
  {
   "cell_type": "code",
   "execution_count": 7,
   "metadata": {
    "ExecuteTime": {
     "end_time": "2019-06-29T08:47:23.973093Z",
     "start_time": "2019-06-29T08:40:29.468701Z"
    }
   },
   "outputs": [],
   "source": [
    "eng_reviews_df['sentences_cleaned'] = eng_reviews_df['sentences'].apply(lambda x: [chain(sentence.lower(), operations) for sentence in x])"
   ]
  },
  {
   "cell_type": "markdown",
   "metadata": {},
   "source": [
    "## Normalise sentences"
   ]
  },
  {
   "cell_type": "code",
   "execution_count": 8,
   "metadata": {
    "ExecuteTime": {
     "end_time": "2019-06-29T08:47:23.979175Z",
     "start_time": "2019-06-29T08:47:23.975464Z"
    }
   },
   "outputs": [],
   "source": [
    "from nltk.stem.snowball import SnowballStemmer\n",
    "\n",
    "sb = SnowballStemmer(\"english\").stem"
   ]
  },
  {
   "cell_type": "code",
   "execution_count": 9,
   "metadata": {
    "ExecuteTime": {
     "end_time": "2019-06-29T08:50:52.202809Z",
     "start_time": "2019-06-29T08:47:23.982481Z"
    }
   },
   "outputs": [],
   "source": [
    "eng_reviews_df['sentences_normalised'] = eng_reviews_df['sentences_cleaned'].apply(lambda x: [apply_text_normalisation(sentence, sb) for sentence in x])"
   ]
  },
  {
   "cell_type": "code",
   "execution_count": 12,
   "metadata": {
    "ExecuteTime": {
     "end_time": "2019-06-29T08:55:34.963677Z",
     "start_time": "2019-06-29T08:55:05.584258Z"
    }
   },
   "outputs": [],
   "source": [
    "eng_reviews_df.to_json(\"preprocessed_english_reviews_in_setences.json\", orient='records')"
   ]
  },
  {
   "cell_type": "code",
   "execution_count": 2,
   "metadata": {
    "ExecuteTime": {
     "end_time": "2019-07-01T19:20:47.393388Z",
     "start_time": "2019-07-01T19:20:03.342214Z"
    }
   },
   "outputs": [],
   "source": [
    "eng_reviews_df = pd.read_json(\"preprocessed_english_reviews_in_setences.json\")"
   ]
  },
  {
   "cell_type": "markdown",
   "metadata": {},
   "source": [
    "## Get sample listing\n",
    "\n",
    "Used as example for text summarisation"
   ]
  },
  {
   "cell_type": "code",
   "execution_count": 3,
   "metadata": {
    "ExecuteTime": {
     "end_time": "2019-07-01T19:21:13.914942Z",
     "start_time": "2019-07-01T19:21:13.841236Z"
    }
   },
   "outputs": [],
   "source": [
    "grouped_eng_reviews = eng_reviews_df.groupby('listing_id')\n",
    "listing_2818 = grouped_eng_reviews.get_group(2818)"
   ]
  },
  {
   "cell_type": "code",
   "execution_count": 4,
   "metadata": {
    "ExecuteTime": {
     "end_time": "2019-07-01T19:21:13.957241Z",
     "start_time": "2019-07-01T19:21:13.921252Z"
    }
   },
   "outputs": [
    {
     "data": {
      "text/plain": [
       "['daniel', 'really', 'cool']"
      ]
     },
     "execution_count": 4,
     "metadata": {},
     "output_type": "execute_result"
    }
   ],
   "source": [
    "all_review_sentences = listing_2818['sentences_cleaned']\n",
    "flatten_review_sentences = [sentence for review in all_review_sentences for sentence in review]\n",
    "flatten_review_sentences[0]"
   ]
  },
  {
   "cell_type": "code",
   "execution_count": 5,
   "metadata": {
    "ExecuteTime": {
     "end_time": "2019-07-01T19:21:13.975847Z",
     "start_time": "2019-07-01T19:21:13.961783Z"
    }
   },
   "outputs": [
    {
     "data": {
      "text/plain": [
       "['daniel', 'realli', 'cool']"
      ]
     },
     "execution_count": 5,
     "metadata": {},
     "output_type": "execute_result"
    }
   ],
   "source": [
    "all_review_sentences_norm = listing_2818['sentences_normalised']\n",
    "flatten_review_sentences_norm = [sentence for review in all_review_sentences_norm for sentence in review]\n",
    "flatten_review_sentences_norm[0]"
   ]
  },
  {
   "cell_type": "markdown",
   "metadata": {},
   "source": [
    "## Prepare GloVe for word embedding"
   ]
  },
  {
   "cell_type": "code",
   "execution_count": 17,
   "metadata": {
    "ExecuteTime": {
     "end_time": "2019-06-27T19:55:40.341887Z",
     "start_time": "2019-06-27T19:33:53.233168Z"
    },
    "collapsed": true
   },
   "outputs": [
    {
     "name": "stdout",
     "output_type": "stream",
     "text": [
      "--2019-06-27 20:33:53--  http://nlp.stanford.edu/data/glove.6B.zip\n",
      "Resolving nlp.stanford.edu (nlp.stanford.edu)... 171.64.67.140\n",
      "Connecting to nlp.stanford.edu (nlp.stanford.edu)|171.64.67.140|:80... connected.\n",
      "HTTP request sent, awaiting response... 302 Found\n",
      "Location: https://nlp.stanford.edu/data/glove.6B.zip [following]\n",
      "--2019-06-27 20:33:53--  https://nlp.stanford.edu/data/glove.6B.zip\n",
      "Connecting to nlp.stanford.edu (nlp.stanford.edu)|171.64.67.140|:443... connected.\n",
      "HTTP request sent, awaiting response... 301 Moved Permanently\n",
      "Location: http://downloads.cs.stanford.edu/nlp/data/glove.6B.zip [following]\n",
      "--2019-06-27 20:33:54--  http://downloads.cs.stanford.edu/nlp/data/glove.6B.zip\n",
      "Resolving downloads.cs.stanford.edu (downloads.cs.stanford.edu)... 171.64.64.22\n",
      "Connecting to downloads.cs.stanford.edu (downloads.cs.stanford.edu)|171.64.64.22|:80... connected.\n",
      "HTTP request sent, awaiting response... 200 OK\n",
      "Length: 862182613 (822M) [application/zip]\n",
      "Saving to: ‘glove.6B.zip’\n",
      "\n",
      "glove.6B.zip        100%[===================>] 822.24M   439KB/s    in 21m 11s \n",
      "\n",
      "2019-06-27 20:55:06 (662 KB/s) - ‘glove.6B.zip’ saved [862182613/862182613]\n",
      "\n",
      "Archive:  glove.6B.zip\n",
      "  inflating: glove.6B.50d.txt        \n",
      "  inflating: glove.6B.100d.txt       \n",
      "  inflating: glove.6B.200d.txt       \n",
      "  inflating: glove.6B.300d.txt       \n"
     ]
    }
   ],
   "source": [
    "!wget http://nlp.stanford.edu/data/glove.6B.zip\n",
    "!unzip glove*.zip"
   ]
  },
  {
   "cell_type": "code",
   "execution_count": 17,
   "metadata": {
    "ExecuteTime": {
     "end_time": "2019-06-29T09:40:41.136463Z",
     "start_time": "2019-06-29T09:40:41.130729Z"
    }
   },
   "outputs": [],
   "source": [
    "def extract_word_vector(vector_path):\n",
    "    word_embeddings = {}\n",
    "    with open(vector_path, \"r\", encoding='utf-8') as vector_file:\n",
    "        for line in vector_file:\n",
    "            values = line.split()\n",
    "            word = values[0]\n",
    "            coefs = np.asarray(values[1:], dtype='float32')\n",
    "            word_embeddings[word] = coefs\n",
    "    return word_embeddings"
   ]
  },
  {
   "cell_type": "code",
   "execution_count": 70,
   "metadata": {
    "ExecuteTime": {
     "end_time": "2019-06-29T10:41:11.924876Z",
     "start_time": "2019-06-29T10:40:58.361227Z"
    }
   },
   "outputs": [],
   "source": [
    "dims = 100\n",
    "word_embeddings = extract_word_vector(f\"./glove.6B.{dims}d.txt\")"
   ]
  },
  {
   "cell_type": "code",
   "execution_count": 7,
   "metadata": {
    "ExecuteTime": {
     "end_time": "2019-07-01T19:21:53.660250Z",
     "start_time": "2019-07-01T19:21:51.446934Z"
    }
   },
   "outputs": [],
   "source": [
    "import pickle\n",
    "\n",
    "# with open(f'glove_embeddings_{dims}.pkl', 'wb') as pklfile:\n",
    "#     pickle.dump(word_embeddings, pklfile)\n",
    "dims = 100\n",
    "with open(f'glove_embeddings_{dims}.pkl', 'rb') as pklfile:\n",
    "    word_embeddings = pickle.load(pklfile)"
   ]
  },
  {
   "cell_type": "markdown",
   "metadata": {},
   "source": [
    "The GloVe word embeddings contains 400K different terms. \n",
    "GloVe contains 4 different dimension vectors - 50d, 100d, 200d & 300d.\n",
    "The difference relates to how much information from 400K terms are squeezed into each dimension vector."
   ]
  },
  {
   "cell_type": "markdown",
   "metadata": {},
   "source": [
    "# Text summarisation"
   ]
  },
  {
   "cell_type": "markdown",
   "metadata": {
    "ExecuteTime": {
     "end_time": "2019-06-23T17:01:40.373700Z",
     "start_time": "2019-06-23T17:01:40.370180Z"
    }
   },
   "source": [
    "## TextRank"
   ]
  },
  {
   "cell_type": "code",
   "execution_count": null,
   "metadata": {},
   "outputs": [],
   "source": [
    "# https://towardsdatascience.com/understand-text-summarization-and-create-your-own-summarizer-in-python-b26a9f09fc70"
   ]
  },
  {
   "cell_type": "code",
   "execution_count": 8,
   "metadata": {
    "ExecuteTime": {
     "end_time": "2019-07-01T20:59:42.246016Z",
     "start_time": "2019-07-01T20:59:41.251823Z"
    }
   },
   "outputs": [],
   "source": [
    "import itertools\n",
    "\n",
    "from nltk.cluster.util import cosine_distance\n",
    "import networkx as nx\n",
    "from sklearn.feature_extraction.text import CountVectorizer, TfidfVectorizer"
   ]
  },
  {
   "cell_type": "code",
   "execution_count": 9,
   "metadata": {
    "ExecuteTime": {
     "end_time": "2019-07-01T20:59:42.260765Z",
     "start_time": "2019-07-01T20:59:42.251970Z"
    }
   },
   "outputs": [],
   "source": [
    "def sentence_similarity(vector1, vector2):\n",
    "    similarity_score = 1 - cosine_distance(vector1, vector2)\n",
    "\n",
    "    if np.isnan(similarity_score):\n",
    "        similarity_score = 0\n",
    "\n",
    "    return similarity_score"
   ]
  },
  {
   "cell_type": "code",
   "execution_count": 10,
   "metadata": {
    "ExecuteTime": {
     "end_time": "2019-07-01T20:59:42.277310Z",
     "start_time": "2019-07-01T20:59:42.265369Z"
    }
   },
   "outputs": [],
   "source": [
    "import scipy\n",
    "\n",
    "def build_similarity_matrix(sentence_vectors, verbose=False):\n",
    "    sentence_length = sentence_vectors.shape[0]\n",
    "\n",
    "    if isinstance(sentence_vectors, scipy.sparse.csr.csr_matrix):\n",
    "        sentence_vector_arrays = sentence_vectors.toarray()\n",
    "    else:\n",
    "        sentence_vector_arrays = sentence_vectors\n",
    "\n",
    "    # Create an empty similarity matrix\n",
    "    similarity_matrix = np.zeros((sentence_length, sentence_length))\n",
    "\n",
    "    # create index of word pairs\n",
    "    permutation_set = list(itertools.permutations(range(0, sentence_length), 2))\n",
    "\n",
    "    for pair in permutation_set:\n",
    "        idx1, idx2 = pair\n",
    "\n",
    "        sent1 = sentence_vector_arrays[idx1]\n",
    "        sent2 = sentence_vector_arrays[idx2]\n",
    "\n",
    "        if verbose:\n",
    "            print(f\"Sentences: \\n{sent1}\\n{sent2}\")\n",
    "\n",
    "        similarity_matrix[idx1][idx2] = sentence_similarity(sentence_vector_arrays[idx1], sentence_vector_arrays[idx2])\n",
    "\n",
    "    return similarity_matrix"
   ]
  },
  {
   "cell_type": "code",
   "execution_count": 11,
   "metadata": {
    "ExecuteTime": {
     "end_time": "2019-07-01T20:59:56.050808Z",
     "start_time": "2019-07-01T20:59:56.044925Z"
    }
   },
   "outputs": [],
   "source": [
    "def visualise_top_scores(scores, flatten_sentences, n_top):\n",
    "    # Step 4 - Sort the rank and pick top sentences\n",
    "    ranked_sentence = sorted(((scores[i], s) for i, s in enumerate(flatten_sentences)), reverse=True)    \n",
    "\n",
    "    summarize_text = []\n",
    "\n",
    "    for i in range(n_top):\n",
    "#         summarize_text.append(\" \".join(ranked_sentence[i][1]))\n",
    "        summarize_text.append(ranked_sentence[i][1])\n",
    "    return summarize_text"
   ]
  },
  {
   "cell_type": "code",
   "execution_count": 12,
   "metadata": {
    "ExecuteTime": {
     "end_time": "2019-07-01T20:59:57.248621Z",
     "start_time": "2019-07-01T20:59:57.242101Z"
    }
   },
   "outputs": [],
   "source": [
    "top_n = 5"
   ]
  },
  {
   "cell_type": "markdown",
   "metadata": {},
   "source": [
    "### Using Simple Word Count"
   ]
  },
  {
   "cell_type": "code",
   "execution_count": 33,
   "metadata": {
    "ExecuteTime": {
     "end_time": "2019-06-29T10:28:42.640286Z",
     "start_time": "2019-06-29T10:28:35.225425Z"
    }
   },
   "outputs": [
    {
     "data": {
      "text/plain": [
       "CountVectorizer(analyzer=<function dummy_fun at 0x1a7f51f510>, binary=False,\n",
       "        decode_error='strict', dtype=<class 'numpy.int64'>,\n",
       "        encoding='utf-8', input='content', lowercase=True, max_df=1.0,\n",
       "        max_features=5000, min_df=1, ngram_range=(1, 1),\n",
       "        preprocessor=<function dummy_fun at 0x1a7f51f510>, stop_words=None,\n",
       "        strip_accents='unicode', token_pattern='(?u)\\\\b\\\\w\\\\w+\\\\b',\n",
       "        tokenizer=None, vocabulary=None)"
      ]
     },
     "execution_count": 33,
     "metadata": {},
     "output_type": "execute_result"
    }
   ],
   "source": [
    "def dummy_fun(token):\n",
    "    return token\n",
    "\n",
    "textrank_count_vectorizer = CountVectorizer(\n",
    "                        strip_accents='unicode',\n",
    "                        preprocessor=dummy_fun,\n",
    "                        analyzer=dummy_fun,\n",
    "                        max_features = 5000)\n",
    "\n",
    "textrank_count_vectorizer.fit(eng_reviews_df['comments_token'])"
   ]
  },
  {
   "cell_type": "code",
   "execution_count": 56,
   "metadata": {
    "ExecuteTime": {
     "end_time": "2019-06-29T10:34:17.494530Z",
     "start_time": "2019-06-29T10:33:46.048501Z"
    },
    "scrolled": true
   },
   "outputs": [
    {
     "name": "stderr",
     "output_type": "stream",
     "text": [
      "/Users/fionachow/anaconda3/envs/dcuration/lib/python3.6/site-packages/nltk/cluster/util.py:133: RuntimeWarning: invalid value encountered in true_divide\n",
      "  return 1 - (numpy.dot(u, v) / (sqrt(numpy.dot(u, u)) * sqrt(numpy.dot(v, v))))\n"
     ]
    }
   ],
   "source": [
    "sentence_vectors = textrank_count_vectorizer.transform(flatten_review_sentences_norm)\n",
    "similarity_matrix_countvec = build_similarity_matrix(sentence_vectors)"
   ]
  },
  {
   "cell_type": "code",
   "execution_count": 57,
   "metadata": {
    "ExecuteTime": {
     "end_time": "2019-06-29T10:34:37.749377Z",
     "start_time": "2019-06-29T10:34:25.819255Z"
    }
   },
   "outputs": [],
   "source": [
    "sentence_similarity_graph_countvec = nx.from_numpy_array(similarity_matrix_countvec)\n",
    "countvec_scores = nx.pagerank(sentence_similarity_graph_countvec)"
   ]
  },
  {
   "cell_type": "code",
   "execution_count": 58,
   "metadata": {
    "ExecuteTime": {
     "end_time": "2019-06-29T10:34:39.552184Z",
     "start_time": "2019-06-29T10:34:39.545325Z"
    }
   },
   "outputs": [
    {
     "data": {
      "text/plain": [
       "['traveled first time amsterdam friend stayed daniel excelent host helping find routes gave lots tips handle things amsterdam place clean quiet recomment daniel room',\n",
       " 'grear stay daniel',\n",
       " 'staying daniel great',\n",
       " 'great stay daniel',\n",
       " 'daniel place great daniel wad easy going helpful']"
      ]
     },
     "execution_count": 58,
     "metadata": {},
     "output_type": "execute_result"
    }
   ],
   "source": [
    "visualise_top_scores(countvec_scores, flatten_review_sentences, n_top=top_n)"
   ]
  },
  {
   "cell_type": "markdown",
   "metadata": {},
   "source": [
    "### Using Tfidf"
   ]
  },
  {
   "cell_type": "code",
   "execution_count": 62,
   "metadata": {
    "ExecuteTime": {
     "end_time": "2019-06-29T10:35:29.749313Z",
     "start_time": "2019-06-29T10:35:19.219212Z"
    }
   },
   "outputs": [
    {
     "data": {
      "text/plain": [
       "TfidfVectorizer(analyzer='word', binary=False, decode_error='strict',\n",
       "        dtype=<class 'numpy.float64'>, encoding='utf-8', input='content',\n",
       "        lowercase=True, max_df=1.0, max_features=5000, min_df=10,\n",
       "        ngram_range=(1, 1), norm='l2',\n",
       "        preprocessor=<function dummy_fun at 0x1a7f51f510>, smooth_idf=True,\n",
       "        stop_words=None, strip_accents='unicode', sublinear_tf=False,\n",
       "        token_pattern='(?u)\\\\b\\\\w\\\\w+\\\\b', tokenizer=None, use_idf=True,\n",
       "        vocabulary=None)"
      ]
     },
     "execution_count": 62,
     "metadata": {},
     "output_type": "execute_result"
    }
   ],
   "source": [
    "textrank_tfidf_vectorizer = TfidfVectorizer(\n",
    "                        strip_accents='unicode',\n",
    "                        preprocessor=dummy_fun,\n",
    "                        analyzer='word',\n",
    "                        ngram_range=(1, 1),\n",
    "                        min_df=10,    \n",
    "                        use_idf=True, smooth_idf=True, \n",
    "                        max_features = 5000)\n",
    "\n",
    "textrank_tfidf_vectorizer.fit(eng_reviews_df['comments_token_str'])"
   ]
  },
  {
   "cell_type": "code",
   "execution_count": 63,
   "metadata": {
    "ExecuteTime": {
     "end_time": "2019-06-29T10:37:59.627241Z",
     "start_time": "2019-06-29T10:37:42.047830Z"
    }
   },
   "outputs": [
    {
     "name": "stderr",
     "output_type": "stream",
     "text": [
      "/Users/fionachow/anaconda3/envs/dcuration/lib/python3.6/site-packages/nltk/cluster/util.py:133: RuntimeWarning: invalid value encountered in double_scalars\n",
      "  return 1 - (numpy.dot(u, v) / (sqrt(numpy.dot(u, u)) * sqrt(numpy.dot(v, v))))\n"
     ]
    }
   ],
   "source": [
    "flatten_review_sentences_joined = [\" \".join(sentence) for sentence in flatten_review_sentences_norm]\n",
    "sentence_vectors_tfidf = textrank_tfidf_vectorizer.transform(flatten_review_sentences_joined)\n",
    "similarity_matrix_tfidf = build_similarity_matrix(sentence_vectors_tfidf)"
   ]
  },
  {
   "cell_type": "code",
   "execution_count": 64,
   "metadata": {
    "ExecuteTime": {
     "end_time": "2019-06-29T10:38:30.926435Z",
     "start_time": "2019-06-29T10:38:16.495085Z"
    }
   },
   "outputs": [],
   "source": [
    "sentence_similarity_graph_tfidf = nx.from_numpy_array(similarity_matrix_tfidf)\n",
    "tfidf_scores = nx.pagerank(sentence_similarity_graph_tfidf)"
   ]
  },
  {
   "cell_type": "code",
   "execution_count": 68,
   "metadata": {
    "ExecuteTime": {
     "end_time": "2019-06-29T10:39:12.477212Z",
     "start_time": "2019-06-29T10:39:12.470343Z"
    }
   },
   "outputs": [
    {
     "data": {
      "text/plain": [
       "['would recommend staying daniel',\n",
       " 'staying daniel great',\n",
       " 'great stay daniel',\n",
       " 'staying daniel apartment great',\n",
       " 'grear stay daniel']"
      ]
     },
     "execution_count": 68,
     "metadata": {},
     "output_type": "execute_result"
    }
   ],
   "source": [
    "visualise_top_scores(tfidf_scores, flatten_review_sentences, top_n)"
   ]
  },
  {
   "cell_type": "markdown",
   "metadata": {},
   "source": [
    "### Using GloVe Embeddings"
   ]
  },
  {
   "cell_type": "markdown",
   "metadata": {},
   "source": [
    "Wikipedia 2014 + Gigaword 5\n",
    "https://nlp.stanford.edu/projects/glove/\n",
    "Word\n",
    "embeddings are substantially successful in capturing semantic\n",
    "relations among words,\n",
    "The Euclidean distance (or cosine similarity) between two word vectors provides an effective method for measuring the linguistic or semantic similarity of the corresponding words"
   ]
  },
  {
   "cell_type": "code",
   "execution_count": 13,
   "metadata": {
    "ExecuteTime": {
     "end_time": "2019-07-01T21:00:09.866014Z",
     "start_time": "2019-07-01T21:00:09.858893Z"
    }
   },
   "outputs": [],
   "source": [
    "def get_sentence_vector(word_embeddings, sentence, we_dim):\n",
    "    vector = np.zeros((we_dim, ))\n",
    "\n",
    "    sentence_length = len(sentence) + 0.001\n",
    "\n",
    "    if sentence:\n",
    "        sentence_embeddings = sum([word_embeddings.get(word, vector) for word in sentence])\n",
    "\n",
    "        vector = sentence_embeddings/sentence_length\n",
    "\n",
    "    return vector"
   ]
  },
  {
   "cell_type": "code",
   "execution_count": 14,
   "metadata": {
    "ExecuteTime": {
     "end_time": "2019-07-01T21:01:44.928440Z",
     "start_time": "2019-07-01T21:01:44.853248Z"
    }
   },
   "outputs": [],
   "source": [
    "flatten_reviews_for_vis = [sentence for sentences in listing_2818['sentences'].tolist() for sentence in sentences]\n",
    "\n",
    "sentence_embedding_vectors = []\n",
    "\n",
    "for review_sentence in flatten_review_sentences:\n",
    "    sentence_vector = get_sentence_vector(word_embeddings, review_sentence, dims)\n",
    "    sentence_embedding_vectors.append(sentence_vector)"
   ]
  },
  {
   "cell_type": "code",
   "execution_count": 15,
   "metadata": {
    "ExecuteTime": {
     "end_time": "2019-07-01T21:02:36.003583Z",
     "start_time": "2019-07-01T21:01:57.168141Z"
    }
   },
   "outputs": [
    {
     "name": "stderr",
     "output_type": "stream",
     "text": [
      "/Users/fionachow/anaconda3/envs/dcuration/lib/python3.6/site-packages/nltk/cluster/util.py:133: RuntimeWarning: invalid value encountered in double_scalars\n",
      "  return 1 - (numpy.dot(u, v) / (sqrt(numpy.dot(u, u)) * sqrt(numpy.dot(v, v))))\n"
     ]
    }
   ],
   "source": [
    "glove_similarity_matrix = build_similarity_matrix(np.array(sentence_embedding_vectors))\n",
    "glove_sentence_similarity_graph = nx.from_numpy_array(glove_similarity_matrix)\n",
    "glove_scores = nx.pagerank(glove_sentence_similarity_graph)"
   ]
  },
  {
   "cell_type": "code",
   "execution_count": 16,
   "metadata": {
    "ExecuteTime": {
     "end_time": "2019-07-01T21:02:36.033948Z",
     "start_time": "2019-07-01T21:02:36.012686Z"
    }
   },
   "outputs": [
    {
     "data": {
      "text/plain": [
       "['HOST: Daniel was very accomodating, has prepared everything you will need for your stay in the city, you get to have great and fun conversations with him, you will be for sure well taken care of!',\n",
       " \"Not only was the room comfortable, colourful, light, quiet, and equipped with everything we could possibly need - and Daniel's flat spotless and beautifully furnished and in a great location - but Daniel himself is the perfect host, spending the first hour of our arrival talking to us about Amsterdam, answering our many questions, showing us how to get around.\",\n",
       " 'He was friendly, extremely helpful & went the extra mile to make sure my friend and I were at home at his place.',\n",
       " 'His attention to details and kindness make his place an excellent alternative for those considering a bed and breakfast in Amsterdam\\r\\nI strongly advise to consider his place: Great location, an affordable price, a clean and organized room and a great host.',\n",
       " 'I traveled first time to Amsterdam with a friend and we stayed at Daniel´s.He was an excelent host with helping to find out routes and gave lots of tips how to handle things in Amsterdam.The place was very clean and quiet.We recomment Daniel´s room.']"
      ]
     },
     "execution_count": 16,
     "metadata": {},
     "output_type": "execute_result"
    }
   ],
   "source": [
    "visualise_top_scores(scores=glove_scores, flatten_sentences=flatten_reviews_for_vis, n_top=top_n)"
   ]
  },
  {
   "cell_type": "code",
   "execution_count": 92,
   "metadata": {
    "ExecuteTime": {
     "end_time": "2019-06-29T18:04:07.990936Z",
     "start_time": "2019-06-29T18:04:07.978408Z"
    }
   },
   "outputs": [
    {
     "data": {
      "text/plain": [
       "[\"ROOM: cozy and comfortable, a calming beautiful window view of a garden.\\nAPARTMENT: beautiful interior & relaxing, feels like home!\\nNEIGHBORHOOD: quiet and pleasant, a bit away from the city center but you get to visit lots of cafe's and restaurant around aswell.\\nHOST: Daniel was very accomodating, has prepared everything you will need for your stay in the city, you get to have great and fun conversations with him, you will be for sure well taken care of! A great person, so far the best experience I had having a such a host! Thank you again!!!\"]"
      ]
     },
     "execution_count": 92,
     "metadata": {},
     "output_type": "execute_result"
    }
   ],
   "source": [
    "listing_2818[listing_2818.comments.str.contains(\"fun conver\")]['comments'].tolist()"
   ]
  },
  {
   "cell_type": "markdown",
   "metadata": {
    "ExecuteTime": {
     "end_time": "2019-06-23T17:01:50.337845Z",
     "start_time": "2019-06-23T17:01:50.334198Z"
    }
   },
   "source": [
    "## Extractive Method"
   ]
  },
  {
   "cell_type": "markdown",
   "metadata": {},
   "source": [
    "### Using Tfidf\n",
    "\n",
    "https://blog.floydhub.com/gentle-introduction-to-text-summarization-in-machine-learning/"
   ]
  },
  {
   "cell_type": "code",
   "execution_count": 81,
   "metadata": {
    "ExecuteTime": {
     "end_time": "2019-06-29T10:46:49.713653Z",
     "start_time": "2019-06-29T10:46:48.997941Z"
    }
   },
   "outputs": [],
   "source": [
    "listing_2818_review_weights = [textrank_tfidf_vectorizer.transform(sentence).sum(axis=0) if sentence else np.array(0) for sentence in flatten_review_sentences]\n",
    "listing_2818_sentence_weights = np.array([w.sum() for w in listing_2818_review_weights])"
   ]
  },
  {
   "cell_type": "markdown",
   "metadata": {
    "ExecuteTime": {
     "end_time": "2019-06-26T06:47:58.467584Z",
     "start_time": "2019-06-26T06:47:58.463763Z"
    }
   },
   "source": [
    "### Weightage bias towards length of sentence?"
   ]
  },
  {
   "cell_type": "code",
   "execution_count": 82,
   "metadata": {
    "ExecuteTime": {
     "end_time": "2019-06-29T10:46:53.445068Z",
     "start_time": "2019-06-29T10:46:53.437192Z"
    }
   },
   "outputs": [
    {
     "data": {
      "text/plain": [
       "(1122, 1122, 1122)"
      ]
     },
     "execution_count": 82,
     "metadata": {},
     "output_type": "execute_result"
    }
   ],
   "source": [
    "listing_2818_review_lengths = [len(review_sentence) if len(review_sentence) else 0.01 for review_sentence in flatten_review_sentences]\n",
    "length_weight = list(zip(listing_2818_review_lengths, listing_2818_sentence_weights))\n",
    "len(listing_2818_review_lengths), len(listing_2818_sentence_weights), len(length_weight)"
   ]
  },
  {
   "cell_type": "code",
   "execution_count": 83,
   "metadata": {
    "ExecuteTime": {
     "end_time": "2019-06-29T10:46:56.126348Z",
     "start_time": "2019-06-29T10:46:56.117078Z"
    }
   },
   "outputs": [
    {
     "name": "stdout",
     "output_type": "stream",
     "text": [
      "Longest:\n",
      "\n",
      "[(32, 18.0), (32, 17.0), (27, 15.0), (24, 13.0), (24, 14.0)]\n",
      "Shortest:\n",
      "\n",
      "[(0.01, 0.0), (0.01, 0.0), (0.01, 0.0), (0.01, 0.0), (0.01, 0.0)]\n"
     ]
    }
   ],
   "source": [
    "sorted_length_weight = sorted(length_weight, key=lambda tup:tup[0], reverse=True)\n",
    "\n",
    "print(\"Longest:\\n\")\n",
    "print(sorted_length_weight[:5])\n",
    "print(\"Shortest:\\n\")\n",
    "print(sorted_length_weight[-5:])"
   ]
  },
  {
   "cell_type": "code",
   "execution_count": 84,
   "metadata": {
    "ExecuteTime": {
     "end_time": "2019-06-29T10:46:59.594880Z",
     "start_time": "2019-06-29T10:46:58.972478Z"
    }
   },
   "outputs": [
    {
     "data": {
      "text/plain": [
       "<matplotlib.axes._subplots.AxesSubplot at 0x1a7b8fbeb8>"
      ]
     },
     "execution_count": 84,
     "metadata": {},
     "output_type": "execute_result"
    },
    {
     "data": {
      "image/png": "[encoded data removed]",
      "text/plain": [
       "<matplotlib.figure.Figure at 0x107cb09e8>"
      ]
     },
     "metadata": {
      "needs_background": "light"
     },
     "output_type": "display_data"
    }
   ],
   "source": [
    "import matplotlib\n",
    "import matplotlib.pyplot as plt\n",
    "import seaborn\n",
    "\n",
    "%matplotlib inline\n",
    "\n",
    "seaborn.scatterplot(x=listing_2818_review_lengths, y=listing_2818_sentence_weights)"
   ]
  },
  {
   "cell_type": "code",
   "execution_count": 85,
   "metadata": {
    "ExecuteTime": {
     "end_time": "2019-06-29T10:47:01.434907Z",
     "start_time": "2019-06-29T10:47:01.430482Z"
    }
   },
   "outputs": [],
   "source": [
    "average_weights = [x/y for x,y in zip(listing_2818_sentence_weights, listing_2818_review_lengths)]"
   ]
  },
  {
   "cell_type": "code",
   "execution_count": 86,
   "metadata": {
    "ExecuteTime": {
     "end_time": "2019-06-29T10:47:02.962957Z",
     "start_time": "2019-06-29T10:47:02.952059Z"
    }
   },
   "outputs": [
    {
     "name": "stdout",
     "output_type": "stream",
     "text": [
      "Longest:\n",
      "\n",
      "[(32, 0.5625), (32, 0.53125), (27, 0.5555555555555556), (24, 0.5416666666666666), (24, 0.5833333333333334)]\n",
      "Shortest:\n",
      "\n",
      "[(0.01, 0.0), (0.01, 0.0), (0.01, 0.0), (0.01, 0.0), (0.01, 0.0)]\n"
     ]
    }
   ],
   "source": [
    "sorted_av_length_weight = sorted(list(zip(listing_2818_review_lengths,average_weights)) , key=lambda tup:tup[0], reverse=True)\n",
    "\n",
    "print(\"Longest:\\n\")\n",
    "print(sorted_av_length_weight[:5])\n",
    "print(\"Shortest:\\n\")\n",
    "print(sorted_av_length_weight[-5:])"
   ]
  },
  {
   "cell_type": "code",
   "execution_count": 87,
   "metadata": {
    "ExecuteTime": {
     "end_time": "2019-06-29T10:47:04.946655Z",
     "start_time": "2019-06-29T10:47:04.694365Z"
    }
   },
   "outputs": [
    {
     "data": {
      "text/plain": [
       "<matplotlib.axes._subplots.AxesSubplot at 0x1a7b91df98>"
      ]
     },
     "execution_count": 87,
     "metadata": {},
     "output_type": "execute_result"
    },
    {
     "data": {
      "image/png": "[encoded data removed]",
      "text/plain": [
       "<matplotlib.figure.Figure at 0x1b2dd33940>"
      ]
     },
     "metadata": {
      "needs_background": "light"
     },
     "output_type": "display_data"
    }
   ],
   "source": [
    "seaborn.scatterplot(x=listing_2818_review_lengths, y=average_weights)"
   ]
  },
  {
   "cell_type": "code",
   "execution_count": 89,
   "metadata": {
    "ExecuteTime": {
     "end_time": "2019-06-29T10:47:14.486928Z",
     "start_time": "2019-06-29T10:47:14.477548Z"
    }
   },
   "outputs": [
    {
     "data": {
      "text/plain": [
       "['hope rebook stay later year',\n",
       " 'daniel great host',\n",
       " 'nice host',\n",
       " 'feel safe comfort daniel place',\n",
       " 'come enjoy']"
      ]
     },
     "execution_count": 89,
     "metadata": {},
     "output_type": "execute_result"
    }
   ],
   "source": [
    "top_sentences_pos_listing_2818 = np.array(average_weights).argsort()[-1*top_n:][::-1]\n",
    "top_listing_2818_sentences = np.array(flatten_review_sentences)[top_sentences_pos_listing_2818]\n",
    "[\" \".join(top_sentence) for top_sentence in top_listing_2818_sentences]"
   ]
  },
  {
   "cell_type": "code",
   "execution_count": 102,
   "metadata": {
    "ExecuteTime": {
     "end_time": "2019-06-27T06:33:58.450821Z",
     "start_time": "2019-06-27T06:33:58.441574Z"
    }
   },
   "outputs": [],
   "source": [
    "def get_listing_summary(listing_df, count_vectorizer, top_n_sentence=3):\n",
    "    \"\"\"\n",
    "    \"\"\"\n",
    "    listing_review = np.array([review_sentence for review_sentences in listing_df['sentences_cleaned'].tolist() for review_sentence in review_sentences])\n",
    "    listing_review_norm = np.array([review_sentence for review_sentences in listing_df['sentences_normalised'].tolist() for review_sentence in review_sentences])\n",
    "\n",
    "    # get sentence weights\n",
    "    listing_review_weights = [count_vectorizer.transform(sentence).sum(axis=0) if sentence else np.array(0) for sentence in listing_review_norm]\n",
    "    listing_sentence_weights = np.array([w.sum() for w in listing_review_weights])\n",
    "\n",
    "    # to ensure long sentences do not have unnecessarily high scores over short sentences\n",
    "    # we divided each score of a sentence by the number of words found in that sentence.\n",
    "    # to avoid ZeroDivisionError, added 0.01 to empty lists\n",
    "    listing_review_lengths = [len(review_sentence) if len(review_sentence) else 0.01 for review_sentence in listing_review]\n",
    "    average_weights = [weight/length for weight, length in zip(listing_sentence_weights, listing_review_lengths)]\n",
    "\n",
    "    # projected cleaned but unnormalised version of top sentences\n",
    "    top_sentences_pos = listing_sentence_weights.argsort()[-1*top_n_sentence:][::-1]\n",
    "    top_sentences = [\" \".join(sentence) for sentence in np.array(listing_review)[top_sentences_pos]]\n",
    "\n",
    "    return top_sentences"
   ]
  },
  {
   "cell_type": "code",
   "execution_count": 103,
   "metadata": {
    "ExecuteTime": {
     "end_time": "2019-06-27T06:34:09.675541Z",
     "start_time": "2019-06-27T06:34:08.169155Z"
    }
   },
   "outputs": [
    {
     "data": {
      "text/plain": [
       "['friendly host family amazing appartement amsterdam next visit would definitely like live supermarket next door open lots pubs caf restaurants cash machine min walk leidsplein aawww airport wifi ofcourse stereo equipment left headphone connector cable plug ipod iphone whatever',\n",
       " 'loved stay shawna flat lightfull better put eyes cover clean website hidden airbnb central next grocery shops kind website hidden airbnb nice family let make reservation van gogh museum make cue',\n",
       " 'nice room negative thing roof light made hard sleep wasnt dark witch two younger children hot sun came really small bathroom hard help kids shower small shower']"
      ]
     },
     "execution_count": 103,
     "metadata": {},
     "output_type": "execute_result"
    }
   ],
   "source": [
    "listing_df = grouped_eng_reviews.get_group(82482)\n",
    "get_listing_summary(listing_df, count_vectorizer)"
   ]
  },
  {
   "cell_type": "markdown",
   "metadata": {},
   "source": [
    "## Abstractive Method"
   ]
  }
 ],
 "metadata": {
  "kernelspec": {
   "display_name": "Python 3",
   "language": "python",
   "name": "python3"
  },
  "language_info": {
   "codemirror_mode": {
    "name": "ipython",
    "version": 3
   },
   "file_extension": ".py",
   "mimetype": "text/x-python",
   "name": "python",
   "nbconvert_exporter": "python",
   "pygments_lexer": "ipython3",
   "version": "3.6.6"
  },
  "toc": {
   "base_numbering": 1,
   "nav_menu": {},
   "number_sections": true,
   "sideBar": true,
   "skip_h1_title": false,
   "title_cell": "Table of Contents",
   "title_sidebar": "Contents",
   "toc_cell": false,
   "toc_position": {
    "height": "calc(100% - 180px)",
    "left": "10px",
    "top": "150px",
    "width": "256px"
   },
   "toc_section_display": true,
   "toc_window_display": true
  }
 },
 "nbformat": 4,
 "nbformat_minor": 2
}
